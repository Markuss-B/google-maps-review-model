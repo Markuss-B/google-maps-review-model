{
 "cells": [
  {
   "cell_type": "code",
   "execution_count": 1,
   "id": "84704009",
   "metadata": {},
   "outputs": [],
   "source": [
    "import pandas as pd\n",
    "from tabulate import tabulate\n",
    "from collections import Counter"
   ]
  },
  {
   "cell_type": "code",
   "execution_count": 7,
   "id": "741d625c",
   "metadata": {},
   "outputs": [
    {
     "data": {
      "text/html": [
       "<div>\n",
       "<style scoped>\n",
       "    .dataframe tbody tr th:only-of-type {\n",
       "        vertical-align: middle;\n",
       "    }\n",
       "\n",
       "    .dataframe tbody tr th {\n",
       "        vertical-align: top;\n",
       "    }\n",
       "\n",
       "    .dataframe thead th {\n",
       "        text-align: right;\n",
       "    }\n",
       "</style>\n",
       "<table border=\"1\" class=\"dataframe\">\n",
       "  <thead>\n",
       "    <tr style=\"text-align: right;\">\n",
       "      <th></th>\n",
       "      <th>place</th>\n",
       "      <th>rating</th>\n",
       "      <th>text</th>\n",
       "    </tr>\n",
       "  </thead>\n",
       "  <tbody>\n",
       "    <tr>\n",
       "      <th>0</th>\n",
       "      <td>Trevi Fountain</td>\n",
       "      <td>1</td>\n",
       "      <td>I was at this pizzeria. The price was already ...</td>\n",
       "    </tr>\n",
       "    <tr>\n",
       "      <th>1</th>\n",
       "      <td>Trevi Fountain</td>\n",
       "      <td>1</td>\n",
       "      <td>4 small beers and 4 omelette, one \"pizza\" brea...</td>\n",
       "    </tr>\n",
       "    <tr>\n",
       "      <th>2</th>\n",
       "      <td>Trevi Fountain</td>\n",
       "      <td>1</td>\n",
       "      <td>Waiter asked me if I wanted a small or large b...</td>\n",
       "    </tr>\n",
       "    <tr>\n",
       "      <th>3</th>\n",
       "      <td>Trevi Fountain</td>\n",
       "      <td>1</td>\n",
       "      <td>Nice employee,  nice music, but it is a touris...</td>\n",
       "    </tr>\n",
       "    <tr>\n",
       "      <th>4</th>\n",
       "      <td>Trevi Fountain</td>\n",
       "      <td>1</td>\n",
       "      <td>This place should be shut down. There's an inf...</td>\n",
       "    </tr>\n",
       "  </tbody>\n",
       "</table>\n",
       "</div>"
      ],
      "text/plain": [
       "            place  rating                                               text\n",
       "0  Trevi Fountain       1  I was at this pizzeria. The price was already ...\n",
       "1  Trevi Fountain       1  4 small beers and 4 omelette, one \"pizza\" brea...\n",
       "2  Trevi Fountain       1  Waiter asked me if I wanted a small or large b...\n",
       "3  Trevi Fountain       1  Nice employee,  nice music, but it is a touris...\n",
       "4  Trevi Fountain       1  This place should be shut down. There's an inf..."
      ]
     },
     "execution_count": 7,
     "metadata": {},
     "output_type": "execute_result"
    }
   ],
   "source": [
    "# Read JSON Lines file:\n",
    "df = pd.read_json(\"../data/reviews.jsonl\", lines=True)\n",
    "\n",
    "# Inspect:\n",
    "df.head()\n"
   ]
  },
  {
   "cell_type": "code",
   "execution_count": 8,
   "id": "819fe242",
   "metadata": {},
   "outputs": [],
   "source": [
    "def print_label_distribution(labels):\n",
    "    total = len(labels)\n",
    "    counts = Counter(labels)\n",
    "    labels_sorted = sorted(counts)\n",
    "\n",
    "    table = []\n",
    "    for label in labels_sorted:\n",
    "        count = counts[label]\n",
    "        percent = (count / total) * 100\n",
    "        table.append([label, count, f\"{percent:.2f}%\"])\n",
    "\n",
    "    table.append([\"Total\", total, \"100.00%\"])\n",
    "\n",
    "    print(tabulate(table, headers=[\"Label\", \"Count\", \"Percentage\"], tablefmt=\"fancy_grid\"))"
   ]
  },
  {
   "cell_type": "code",
   "execution_count": 9,
   "id": "88b2c253",
   "metadata": {},
   "outputs": [],
   "source": [
    "labels = df['rating'].tolist()"
   ]
  },
  {
   "cell_type": "code",
   "execution_count": 10,
   "id": "23288173",
   "metadata": {},
   "outputs": [
    {
     "name": "stdout",
     "output_type": "stream",
     "text": [
      "╒═════════╤═════════╤══════════════╕\n",
      "│ Label   │   Count │ Percentage   │\n",
      "╞═════════╪═════════╪══════════════╡\n",
      "│ 1       │   20546 │ 15.29%       │\n",
      "├─────────┼─────────┼──────────────┤\n",
      "│ 2       │    7152 │ 5.32%        │\n",
      "├─────────┼─────────┼──────────────┤\n",
      "│ 3       │   11256 │ 8.38%        │\n",
      "├─────────┼─────────┼──────────────┤\n",
      "│ 4       │   21614 │ 16.09%       │\n",
      "├─────────┼─────────┼──────────────┤\n",
      "│ 5       │   73802 │ 54.92%       │\n",
      "├─────────┼─────────┼──────────────┤\n",
      "│ Total   │  134370 │ 100.00%      │\n",
      "╘═════════╧═════════╧══════════════╛\n"
     ]
    }
   ],
   "source": [
    "print_label_distribution(labels)"
   ]
  }
 ],
 "metadata": {
  "kernelspec": {
   "display_name": "Python 3",
   "language": "python",
   "name": "python3"
  },
  "language_info": {
   "codemirror_mode": {
    "name": "ipython",
    "version": 3
   },
   "file_extension": ".py",
   "mimetype": "text/x-python",
   "name": "python",
   "nbconvert_exporter": "python",
   "pygments_lexer": "ipython3",
   "version": "3.12.6"
  }
 },
 "nbformat": 4,
 "nbformat_minor": 5
}
