{
  "cells": [
    {
      "cell_type": "markdown",
      "metadata": {
        "id": "wNUTXVhjlV9C"
      },
      "source": [
        "# **Final project: Google Maps review sentiment classification**\n"
      ]
    },
    {
      "cell_type": "markdown",
      "metadata": {
        "id": "8zO4ZTbrnWcr"
      },
      "source": [
        "# **Authors:** Aleksandra Dmitruka,  Markuss Birznieks"
      ]
    },
    {
      "cell_type": "markdown",
      "metadata": {
        "id": "s21_L1IZnYO6"
      },
      "source": [
        "# **1.Loading needed libraries, files setting flags**"
      ]
    },
    {
      "cell_type": "markdown",
      "metadata": {
        "id": "2xlzRcxhFCMe"
      },
      "source": [
        "## 1.1.Importing needed libraries"
      ]
    },
    {
      "cell_type": "code",
      "execution_count": null,
      "metadata": {
        "colab": {
          "base_uri": "https://localhost:8080/"
        },
        "id": "2pMPFo7pEtSu",
        "outputId": "5ceb133c-c3c3-461d-c344-1e3d6b98f291"
      },
      "outputs": [
        {
          "name": "stderr",
          "output_type": "stream",
          "text": [
            "[nltk_data] Downloading package stopwords to /root/nltk_data...\n",
            "[nltk_data]   Package stopwords is already up-to-date!\n"
          ]
        }
      ],
      "source": [
        "# Standard libraries\n",
        "import random\n",
        "from collections import Counter, defaultdict\n",
        "\n",
        "# Data handling and manipulation\n",
        "import pandas as pd\n",
        "import numpy as np\n",
        "\n",
        "# Visualization\n",
        "import matplotlib.pyplot as plt\n",
        "import seaborn\n",
        "from tabulate import tabulate\n",
        "\n",
        "# Natural Language Processing (NLP)\n",
        "import nltk\n",
        "from nltk.corpus import stopwords\n",
        "nltk.download('stopwords')\n",
        "\n",
        "# Machine learning utilities\n",
        "from sklearn.model_selection import train_test_split\n",
        "from sklearn.metrics import f1_score, accuracy_score, classification_report, confusion_matrix\n",
        "\n",
        "# PyTorch core\n",
        "import torch\n",
        "from torch import nn\n",
        "import torch.nn.functional as F\n",
        "import torch.optim as optim\n",
        "\n",
        "# PyTorch data utilities\n",
        "from torch.utils.data import Dataset, DataLoader, WeightedRandomSampler\n",
        "from torch.utils import data\n",
        "\n",
        "# Hugging Face Transformers\n",
        "from transformers import (\n",
        "    DistilBertTokenizer,\n",
        "    DistilBertForSequenceClassification,\n",
        "    AutoTokenizer,\n",
        "    AutoModelForSequenceClassification\n",
        ")\n",
        "from huggingface_hub import notebook_login\n",
        "\n",
        "# Miscellaneous\n",
        "from tqdm import tqdm\n",
        "import requests\n",
        "import ipywidgets as widgets\n",
        "from IPython.display import display"
      ]
    },
    {
      "cell_type": "markdown",
      "metadata": {
        "id": "dsQKc8SpnqBB"
      },
      "source": [
        "## 1.2. Downloading collected reviews, setting data path"
      ]
    },
    {
      "cell_type": "code",
      "execution_count": null,
      "metadata": {
        "colab": {
          "base_uri": "https://localhost:8080/"
        },
        "id": "8Wf72O2oDf4P",
        "outputId": "f0f9b0f0-0bbc-4868-945b-3e4f11955847"
      },
      "outputs": [
        {
          "name": "stdout",
          "output_type": "stream",
          "text": [
            "--2025-06-25 17:58:10--  https://raw.githubusercontent.com/Markuss-B/google-maps-review-model/refs/heads/main/data/reviews.jsonl\n",
            "Resolving raw.githubusercontent.com (raw.githubusercontent.com)... 185.199.108.133, 185.199.109.133, 185.199.110.133, ...\n",
            "Connecting to raw.githubusercontent.com (raw.githubusercontent.com)|185.199.108.133|:443... connected.\n",
            "HTTP request sent, awaiting response... 200 OK\n",
            "Length: 35639302 (34M) [text/plain]\n",
            "Saving to: ‘reviews.jsonl.4’\n",
            "\n",
            "reviews.jsonl.4     100%[===================>]  33.99M  94.7MB/s    in 0.4s    \n",
            "\n",
            "2025-06-25 17:58:10 (94.7 MB/s) - ‘reviews.jsonl.4’ saved [35639302/35639302]\n",
            "\n"
          ]
        }
      ],
      "source": [
        "# Our collected reviews via google-maps-reviews-scrapper\n",
        "# https://github.com/YasogaN/google-maps-review-scraper\n",
        "\n",
        "!wget https://raw.githubusercontent.com/Markuss-B/google-maps-review-model/refs/heads/main/data/reviews.jsonl"
      ]
    },
    {
      "cell_type": "code",
      "execution_count": null,
      "metadata": {
        "id": "IQ2CYlMryR3F"
      },
      "outputs": [],
      "source": [
        "DATA_PATH = \"reviews.jsonl\""
      ]
    },
    {
      "cell_type": "markdown",
      "metadata": {
        "id": "pSIxjSV0m72T"
      },
      "source": [
        "## 1.3.Setting flags to control notebook execution"
      ]
    },
    {
      "cell_type": "markdown",
      "metadata": {
        "id": "KB0ugK4oymFr"
      },
      "source": [
        "### 1.3.1. Train data separation flags"
      ]
    },
    {
      "cell_type": "code",
      "execution_count": null,
      "metadata": {
        "id": "Pu5eO0VNyt4m"
      },
      "outputs": [],
      "source": [
        "# Data modes\n",
        "# only one datamode at a time can be selected !!!\n",
        "\n",
        "# Take full dataset of 100k reviews collected and 1-5 stars\n",
        "FULL_SET = False\n",
        "\n",
        "#Use sampler to ease the learining process, otherwise - cut 25k for training, 5k for test\n",
        "SAMPLER = False and FULL_SET\n",
        "\n",
        "#Use simplified labels - positive(2), neutral(1), negative(0)\n",
        "THREE_CLASS = False"
      ]
    },
    {
      "cell_type": "markdown",
      "metadata": {
        "id": "2VMFfPF0zvQh"
      },
      "source": [
        "### 1.3.2. Training and tokinezation flags flags"
      ]
    },
    {
      "cell_type": "code",
      "execution_count": null,
      "metadata": {
        "id": "LA_62pKqFOAr"
      },
      "outputs": [],
      "source": [
        "# Do we want to train at all\n",
        "TRAIN = False\n",
        "\n",
        "# finetune nlp-town bert model for 5 classes(1-5 stars)\n",
        "TRAIN_BERT = False\n",
        "\n",
        "# train distilbert from scratch for 5 classes(1-5 stars)\n",
        "TRAIN_DISTILBERT = False\n",
        "\n",
        "# train our handmade lstm model for 5 classes(1-5 stars)\n",
        "TRAIN_RNN = False\n",
        "\n",
        "# train distilbert from scratch for 3 classes (pos,neut,neg)\n",
        "TRAIN_3CLASS_DISTILBERT=False\n",
        "\n",
        "# train our handmade lstm from scratch for 3 classes (pos,neut,neg)\n",
        "TRAIN_3CLASS_RNN=False"
      ]
    },
    {
      "cell_type": "code",
      "execution_count": null,
      "metadata": {
        "id": "SyUvNc9J5GLY"
      },
      "outputs": [],
      "source": [
        "# Setting to false to avoid repeating tokinezation\n",
        "TOKENIZE = True"
      ]
    },
    {
      "cell_type": "markdown",
      "metadata": {
        "id": "jSUxj6zy0rkZ"
      },
      "source": [
        "### 1.3.3. Evaluation flags"
      ]
    },
    {
      "cell_type": "code",
      "execution_count": null,
      "metadata": {
        "id": "VPHu5VBl68cK"
      },
      "outputs": [],
      "source": [
        "# Do we want to evaluate models at all\n",
        "EVAL_MODE = True\n",
        "SET_25=True\n",
        "EXTRA_TEST=False"
      ]
    },
    {
      "cell_type": "code",
      "execution_count": null,
      "metadata": {
        "id": "OmfoTbZ46pCO"
      },
      "outputs": [],
      "source": [
        "# Which datamode models do we want\n",
        "if EVAL_MODE:\n",
        "    if SAMPLER or EXTRA_TEST:\n",
        "        RNN_PATH_SAMPLER = \"https://huggingface.co/AlexaWal2025/LT_FINAL_PROJECT/resolve/main/rnn_sampler_0.5063.pt\"\n",
        "        BERT_PATH_SAMPLER = \"https://huggingface.co/AlexaWal2025/LT_FINAL_PROJECT/resolve/main/bert_sampler_0.5256.pt\"\n",
        "        DISTILBERT_PATH_SAMPLER = \"https://huggingface.co/AlexaWal2025/LT_FINAL_PROJECT/resolve/main/distilbert_sampler_0.5509.pt\"\n",
        "    if FULL_SET or EXTRA_TEST:\n",
        "        RNN_PATH_FULLSET = \"https://huggingface.co/AlexaWal2025/LT_FINAL_PROJECT/resolve/main/rnn_fullset_0.5186.pt\"\n",
        "        BERT_PATH_FULLSET = \"https://huggingface.co/AlexaWal2025/LT_FINAL_PROJECT/resolve/main/bert_fullset_0.5205.pt\"\n",
        "        DISTILBERT_PATH_FULLSET = \"https://huggingface.co/AlexaWal2025/LT_FINAL_PROJECT/resolve/main/distilbert_fullset_0.5572.pt\"\n",
        "    if THREE_CLASS:\n",
        "        RNN_PATH_THREE_CLASS = \"https://huggingface.co/AlexaWal2025/LT_FINAL_PROJECT/resolve/main/rnn_3class_0.7361.pt\"\n",
        "        DISTILBERT_PATH_THREE_CLASS = \"https://huggingface.co/AlexaWal2025/LT_FINAL_PROJECT/resolve/main/distilbert_3class_0.7834.pt\"\n",
        "        BERT_PATH_THREE_CLASS = None  # not used\n",
        "    if SET_25 or EXTRA_TEST:\n",
        "        RNN_PATH_SET_25 = \"https://huggingface.co/AlexaWal2025/LT_FINAL_PROJECT/resolve/main/rnn_25set_0.5056.pt\"\n",
        "        BERT_PATH_SET_25 = \"https://huggingface.co/AlexaWal2025/LT_FINAL_PROJECT/resolve/main/bert_25set_0.5550.pt\"\n",
        "        DISTILBERT_PATH_SET_25 = \"https://huggingface.co/AlexaWal2025/LT_FINAL_PROJECT/resolve/main/distilbert_25set_0.5819.pt\""
      ]
    },
    {
      "cell_type": "markdown",
      "metadata": {
        "id": "9A1ZabfqFZYM"
      },
      "source": [
        "# **2.Methods and classes for dataset creation, models creation/training/validation**"
      ]
    },
    {
      "cell_type": "markdown",
      "metadata": {
        "id": "hliv4FKGoiMa"
      },
      "source": [
        "## 2.1. Bert (NLP-Town) and DistilBert (standart, not trained) model classes"
      ]
    },
    {
      "cell_type": "code",
      "execution_count": null,
      "metadata": {
        "id": "IJoFIiYHGK06"
      },
      "outputs": [],
      "source": [
        "class DistilBertModel(nn.Module):\n",
        "    # See documentation: https://huggingface.co/docs/transformers/model_doc/distilbert#transformers.DistilBertForSequenceClassification\n",
        "\n",
        "    def __init__(self, model_name=\"distilbert-base-uncased\", num_labels=5):\n",
        "        \"\"\"\n",
        "        Initializes the DistilBERT model for sequence classification.\n",
        "\n",
        "        Args:\n",
        "            model_name (str): Name of the DistilBERT model to load.\n",
        "            num_labels (int): Number of output labels for classification.\n",
        "        \"\"\"\n",
        "        super().__init__()\n",
        "        self.model = DistilBertForSequenceClassification.from_pretrained(\n",
        "            model_name,\n",
        "            num_labels=num_labels\n",
        "        )\n",
        "\n",
        "    def forward(self, input_ids, attention_mask, labels=None):\n",
        "        return self.model(input_ids=input_ids, attention_mask=attention_mask, labels=labels)"
      ]
    },
    {
      "cell_type": "code",
      "execution_count": null,
      "metadata": {
        "id": "Ov6-2KolqnoN"
      },
      "outputs": [],
      "source": [
        "class BertModel(nn.Module):\n",
        "    def __init__(self, freeze=True):\n",
        "        \"\"\"\n",
        "        Initializes a BERT-based sentiment classification model.\n",
        "\n",
        "        Args:\n",
        "            freeze (bool): If True, freezes most of the BERT layers and only fine-tunes\n",
        "                           the classification head.\n",
        "        \"\"\"\n",
        "        super().__init__()\n",
        "\n",
        "        # Optional: logs in to Hugging Face to suppress model download warnings in notebooks\n",
        "        notebook_login()\n",
        "\n",
        "        # Load pretrained BERT model for sentiment analysis\n",
        "        self.model = AutoModelForSequenceClassification.from_pretrained(\n",
        "            \"nlptown/bert-base-multilingual-uncased-sentiment\"\n",
        "        )\n",
        "\n",
        "        # Optionally freeze most of the model's weights\n",
        "        if freeze:\n",
        "            # Freeze all parameters\n",
        "            for param in self.model.parameters():\n",
        "                param.requires_grad = False\n",
        "\n",
        "            # Unfreeze only classifier and pre_classifier layers\n",
        "            for name, param in self.model.named_parameters():\n",
        "                if 'classifier' in name or 'pre_classifier' in name:\n",
        "                    param.requires_grad = True\n",
        "\n",
        "    def forward(self, input_ids, attention_mask, labels=None):\n",
        "        return self.model(input_ids=input_ids, attention_mask=attention_mask, labels=labels)\n"
      ]
    },
    {
      "cell_type": "markdown",
      "metadata": {
        "id": "gqh4RKCzq1NF"
      },
      "source": [
        "## 2.2. Custom LSTM model class"
      ]
    },
    {
      "cell_type": "code",
      "execution_count": null,
      "metadata": {
        "id": "yS2t9Hk9q4FE"
      },
      "outputs": [],
      "source": [
        "class LSTM(nn.Module):\n",
        "    def __init__(self, num_emb, output_size, num_layers=1, hidden_size=128):\n",
        "        \"\"\"\n",
        "        Initializes an LSTM-based sequence model.\n",
        "\n",
        "        Args:\n",
        "            num_emb (int): Size of the vocabulary (number of unique tokens).\n",
        "            output_size (int): Number of output classes (for classification).\n",
        "            num_layers (int): Number of LSTM layers.\n",
        "            hidden_size (int): Size of the hidden state vectors.\n",
        "        \"\"\"\n",
        "        super(LSTM, self).__init__()\n",
        "\n",
        "        # Embedding layer to convert token indices to dense vectors\n",
        "        self.embedding = nn.Embedding(num_emb, hidden_size, padding_idx=0)\n",
        "\n",
        "        # LSTM layer(s) to process the sequence of embeddings\n",
        "        self.lstm = nn.LSTM(\n",
        "            input_size=hidden_size,\n",
        "            hidden_size=hidden_size,\n",
        "            num_layers=num_layers,\n",
        "            batch_first=True,\n",
        "            dropout=0.5  # Applies dropout to outputs of each LSTM layer (except last)\n",
        "        )\n",
        "\n",
        "        # Fully connected layer to project the final hidden state to output size\n",
        "        self.fc_out = nn.Linear(hidden_size, output_size)\n",
        "\n",
        "    def forward(self, input_seq, hidden_in, mem_in):\n",
        "        \"\"\"\n",
        "        Forward pass of the LSTM model.\n",
        "\n",
        "        Args:\n",
        "            input_seq (torch.Tensor): Input sequence of token indices (batch_size, seq_len).\n",
        "            hidden_in (torch.Tensor): Initial hidden state(s) for the LSTM (num_layers, batch_size, hidden_size).\n",
        "            mem_in (torch.Tensor): Initial cell state(s) for the LSTM (num_layers, batch_size, hidden_size).\n",
        "\n",
        "        Returns:\n",
        "            output_logits (torch.Tensor): Class scores for each token in the sequence (batch_size, seq_len, output_size).\n",
        "            hidden_out (torch.Tensor): Final hidden state from the LSTM.\n",
        "            mem_out (torch.Tensor): Final cell state from the LSTM.\n",
        "        \"\"\"\n",
        "        # Convert input indices to embeddings\n",
        "        input_embs = self.embedding(input_seq)\n",
        "\n",
        "        # Pass embeddings through the LSTM\n",
        "        output, (hidden_out, mem_out) = self.lstm(input_embs, (hidden_in, mem_in))\n",
        "\n",
        "        # Project LSTM outputs to class logits\n",
        "        return self.fc_out(output), hidden_out, mem_out\n"
      ]
    },
    {
      "cell_type": "markdown",
      "metadata": {
        "id": "5RR0tbKhF8rp"
      },
      "source": [
        "## 2.2. Review dataset classes"
      ]
    },
    {
      "cell_type": "code",
      "execution_count": null,
      "metadata": {
        "id": "jdQnVAPf6rWN"
      },
      "outputs": [],
      "source": [
        "class ReviewsDataset(Dataset):\n",
        "    def __init__(self, tokenized_texts, raw_texts, labels, places):\n",
        "        \"\"\"\n",
        "        Custom PyTorch Dataset for handling text reviews and associated metadata.\n",
        "\n",
        "        Args:\n",
        "            tokenized_texts (dict): Dictionary containing tokenized inputs (input_ids and attention_mask).\n",
        "            raw_texts (List[str]): List of raw review texts (before tokenization).\n",
        "            labels (List[int]): List of target labels for each review.\n",
        "            places (List[str]): List of associated place/location for each review.\n",
        "        \"\"\"\n",
        "        self.tokenized_texts = tokenized_texts\n",
        "        self.raw_texts = raw_texts\n",
        "        self.labels = labels\n",
        "        self.places = places\n",
        "\n",
        "    def __len__(self):\n",
        "        \"\"\"\n",
        "        Returns the total number of samples in the dataset.\n",
        "        \"\"\"\n",
        "        return len(self.labels)\n",
        "\n",
        "    def __getitem__(self, idx):\n",
        "        \"\"\"\n",
        "        Retrieves tokenized input data and label for a given index.\n",
        "\n",
        "        Args:\n",
        "            idx (int): Index of the sample to retrieve.\n",
        "\n",
        "        Returns:\n",
        "            input_ids (torch.Tensor): Tensor of token IDs for the sample.\n",
        "            attention_mask (torch.Tensor): Tensor indicating which tokens are padding.\n",
        "            label (torch.Tensor): Ground truth label for the sample.\n",
        "        \"\"\"\n",
        "        # Extract tokenized inputs for the current index\n",
        "        input_ids = self.tokenized_texts['input_ids'][idx]\n",
        "        attention_mask = self.tokenized_texts['attention_mask'][idx]\n",
        "        label = torch.tensor(self.labels[idx], dtype=torch.long)\n",
        "\n",
        "        return input_ids, attention_mask, label\n",
        "\n",
        "    def get_place(self, idx):\n",
        "        \"\"\"\n",
        "        Returns the place/location associated with a given sample.\n",
        "\n",
        "        Args:\n",
        "            idx (int): Index of the sample.\n",
        "\n",
        "        Returns:\n",
        "            str: Place associated with the review.\n",
        "        \"\"\"\n",
        "        return self.places[idx]\n",
        "\n",
        "    def get_raw_text(self, idx):\n",
        "        \"\"\"\n",
        "        Returns the raw (untokenized) review text for a given sample.\n",
        "\n",
        "        Args:\n",
        "            idx (int): Index of the sample.\n",
        "\n",
        "        Returns:\n",
        "            str: Raw text of the review.\n",
        "        \"\"\"\n",
        "        return self.raw_texts[idx]"
      ]
    },
    {
      "cell_type": "code",
      "execution_count": null,
      "metadata": {
        "id": "Hlsm23ItytKI"
      },
      "outputs": [],
      "source": [
        "class RnnDataset(Dataset):\n",
        "    def __init__(self, input_ids, labels):\n",
        "        \"\"\"\n",
        "        Custom PyTorch Dataset for RNN-based models.\n",
        "\n",
        "        Args:\n",
        "            input_ids (List[torch.Tensor] or torch.Tensor): Sequences of token indices.\n",
        "            labels (List[int] or torch.Tensor): Corresponding labels for each sequence.\n",
        "        \"\"\"\n",
        "        self.input_ids = input_ids\n",
        "        self.labels = labels\n",
        "\n",
        "    def __len__(self):\n",
        "        \"\"\"\n",
        "        Returns the total number of samples in the dataset.\n",
        "        \"\"\"\n",
        "        return len(self.labels)\n",
        "\n",
        "    def __getitem__(self, idx):\n",
        "        \"\"\"\n",
        "        Retrieves input and label for a given index.\n",
        "\n",
        "        Args:\n",
        "            idx (int): Index of the sample to retrieve.\n",
        "\n",
        "        Returns:\n",
        "            input_ids (torch.Tensor): Token indices for the sample.\n",
        "            label (int or torch.Tensor): Ground truth label for the sample.\n",
        "        \"\"\"\n",
        "        return self.input_ids[idx], self.labels[idx]\n"
      ]
    },
    {
      "cell_type": "markdown",
      "metadata": {
        "id": "9HDW-buUCnYj"
      },
      "source": [
        "# 2.3. Dataset split methods"
      ]
    },
    {
      "cell_type": "markdown",
      "metadata": {
        "id": "Bbb3WG_XCstm"
      },
      "source": [
        "## 2.3.1. Equal class splitting method\n",
        "\n"
      ]
    },
    {
      "cell_type": "code",
      "execution_count": null,
      "metadata": {
        "id": "VR1kSLkA7Agw"
      },
      "outputs": [],
      "source": [
        "def split_equal(labels, texts, places, train_per_class, val_per_class, test_per_class):\n",
        "    \"\"\"\n",
        "    Splits the dataset into balanced train, validation, and test sets based on class labels.\n",
        "\n",
        "    Args:\n",
        "        labels (List[int]): List of class labels for each sample.\n",
        "        texts (List[str]): List of text samples.\n",
        "        places (List[str]): List of associated place/location for each sample.\n",
        "        train_per_class (int): Number of samples per class for the training set.\n",
        "        val_per_class (int): Number of samples per class for the validation set.\n",
        "        test_per_class (int): Number of samples per class for the test set.\n",
        "\n",
        "    Returns:\n",
        "        Tuple of 9 lists:\n",
        "            texts_train, places_train, labels_train,\n",
        "            texts_val, places_val, labels_val,\n",
        "            texts_test, places_test, labels_test\n",
        "    \"\"\"\n",
        "    # Group sample indices by label\n",
        "    label_to_indices = defaultdict(list)\n",
        "    for idx, label in enumerate(labels):\n",
        "        label_to_indices[label].append(idx)\n",
        "\n",
        "    # Desired samples per class\n",
        "    train_per_class = train_per_class\n",
        "    val_per_class = val_per_class\n",
        "    test_per_class = test_per_class\n",
        "\n",
        "    train_indices = []\n",
        "    val_indices = []\n",
        "    test_indices = []\n",
        "\n",
        "    # Ensure reproducibility\n",
        "    np.random.seed(42)\n",
        "\n",
        "    # Create balanced splits per class\n",
        "    for label, indices in label_to_indices.items():\n",
        "       # Check if there are enough samples for the class\n",
        "        if len(indices) < train_per_class + val_per_class + test_per_class:\n",
        "            raise ValueError(f\"Not enough samples for class {label + 1}\")\n",
        "\n",
        "        shuffled = np.random.permutation(indices)\n",
        "        train = shuffled[:train_per_class]\n",
        "        val = shuffled[train_per_class:train_per_class + val_per_class]\n",
        "        test = shuffled[train_per_class + val_per_class:train_per_class + val_per_class + test_per_class]\n",
        "\n",
        "        train_indices.extend(train)\n",
        "        val_indices.extend(val)\n",
        "        test_indices.extend(test)\n",
        "\n",
        "    # Apply splits to data\n",
        "    texts_train = [texts[i] for i in train_indices]\n",
        "    places_train = [places[i] for i in train_indices]\n",
        "    labels_train = [labels[i] for i in train_indices]\n",
        "\n",
        "    texts_val = [texts[i] for i in val_indices]\n",
        "    places_val = [places[i] for i in val_indices]\n",
        "    labels_val = [labels[i] for i in val_indices]\n",
        "\n",
        "    texts_test = [texts[i] for i in test_indices]\n",
        "    places_test = [places[i] for i in test_indices]\n",
        "    labels_test = [labels[i] for i in test_indices]\n",
        "\n",
        "    return texts_train, places_train, labels_train, texts_val, places_val, labels_val, texts_test, places_test, labels_test"
      ]
    },
    {
      "cell_type": "markdown",
      "metadata": {
        "id": "HyRZzpIpCydl"
      },
      "source": [
        "## 2.3.2. 25k train dataset splitting method"
      ]
    },
    {
      "cell_type": "code",
      "execution_count": null,
      "metadata": {
        "id": "kDe2XUQCgQ4S"
      },
      "outputs": [],
      "source": [
        "def split_25_5_5(labels, texts, places):\n",
        "    \"\"\"\n",
        "    Convenience wrapper for `split_equal()` to create a fixed-size split:\n",
        "    - 5000 samples per class for training (25k for 5 classes)\n",
        "    - 1000 samples per class for validation\n",
        "    - 1000 samples per class for testing\n",
        "\n",
        "    Args:\n",
        "        labels (List[int]): Original class labels (1-based).\n",
        "        texts (List[str]): List of review texts.\n",
        "        places (List[str]): List of associated place/location data.\n",
        "\n",
        "    Returns:\n",
        "        Tuple of 9 lists:\n",
        "            texts_train, places_train, labels_train,\n",
        "            texts_val, places_val, labels_val,\n",
        "            texts_test, places_test, labels_test\n",
        "    \"\"\"\n",
        "\n",
        "    # Convert labels from 1-based to 0-based indexing\n",
        "    labels = [label - 1 for label in labels]\n",
        "\n",
        "    # Call split_equal with fixed per-class sample sizes\n",
        "    return split_equal(\n",
        "        labels,\n",
        "        texts,\n",
        "        places,\n",
        "        train_per_class=5000,\n",
        "        val_per_class=1000,\n",
        "        test_per_class=1000\n",
        "    )"
      ]
    },
    {
      "cell_type": "markdown",
      "metadata": {
        "id": "Sjr18FVRC44g"
      },
      "source": [
        "## 2.3.3. 3-class splitting method"
      ]
    },
    {
      "cell_type": "code",
      "execution_count": null,
      "metadata": {
        "id": "DiQnOgPJfNym"
      },
      "outputs": [],
      "source": [
        "def map_labels_3class(labels):\n",
        "    \"\"\"\n",
        "    Maps original 5-class sentiment labels into 3 classes:\n",
        "        - 0: Negative (original labels 1 or 2)\n",
        "        - 1: Positive (original labels 4 or 5)\n",
        "        - 2: Neutral (original label 3)\n",
        "\n",
        "    Args:\n",
        "        labels (List[int]): Original 1–5 scale sentiment labels.\n",
        "\n",
        "    Returns:\n",
        "        List[int]: Mapped labels in the range [0, 1, 2].\n",
        "    \"\"\"\n",
        "    return [0 if label <= 2 else 1 if label >= 4 else 2 for label in labels]\n",
        "\n",
        "\n",
        "def split_3class(labels, texts, places):\n",
        "    \"\"\"\n",
        "    Maps sentiment labels to 3 classes and splits the dataset into balanced train/val/test sets:\n",
        "        - 9000 samples per class for training\n",
        "        - 1000 samples per class for validation\n",
        "        - 1000 samples per class for testing\n",
        "\n",
        "    Args:\n",
        "        labels (List[int]): Original 1–5 sentiment labels.\n",
        "        texts (List[str]): List of review texts.\n",
        "        places (List[str]): List of place/location data.\n",
        "\n",
        "    Returns:\n",
        "        Tuple of 9 lists:\n",
        "            texts_train, places_train, labels_train,\n",
        "            texts_val, places_val, labels_val,\n",
        "            texts_test, places_test, labels_test\n",
        "    \"\"\"\n",
        "    # Convert original 5-class labels to 3-class\n",
        "    labels = map_labels_3class(labels)\n",
        "\n",
        "    # Use balanced splitting based on mapped labels\n",
        "    return split_equal(\n",
        "        labels,\n",
        "        texts,\n",
        "        places,\n",
        "        train_per_class=9000,\n",
        "        val_per_class=1000,\n",
        "        test_per_class=1000\n",
        "    )"
      ]
    },
    {
      "cell_type": "markdown",
      "metadata": {
        "id": "NF3JC3yKC-SI"
      },
      "source": [
        "## 2.3.4. Dataset sampler method"
      ]
    },
    {
      "cell_type": "code",
      "execution_count": null,
      "metadata": {
        "id": "TnqNr9IrM-VW"
      },
      "outputs": [],
      "source": [
        "def createSampler(labels, num_samples=25000, replacement=True):\n",
        "    \"\"\"\n",
        "    Creates a WeightedRandomSampler to address class imbalance during training.\n",
        "\n",
        "    Args:\n",
        "        labels (List[int] or torch.Tensor): List of class labels for the dataset.\n",
        "        num_samples (int): Number of samples to draw per epoch.\n",
        "        replacement (bool): Whether sampling is done with replacement.\n",
        "\n",
        "    Returns:\n",
        "        WeightedRandomSampler: Sampler that can be passed to a DataLoader.\n",
        "    \"\"\"\n",
        "\n",
        "    # Count number of samples per class\n",
        "    class_sample_count = pd.Series(labels).value_counts().sort_index().values\n",
        "\n",
        "    # Compute class weights: inverse of class frequency\n",
        "    # This gives higher weight to underrepresented classes\n",
        "    weights = 1. / torch.tensor(class_sample_count, dtype=torch.float)\n",
        "\n",
        "    # Assign weight to each sample based on its class\n",
        "    sample_weights = weights[labels]\n",
        "\n",
        "    # Create sampler that draws samples with probability proportional to their weight\n",
        "    sampler = WeightedRandomSampler(\n",
        "        weights=sample_weights,\n",
        "        num_samples=num_samples,  # Total number of samples to draw per epoch\n",
        "        replacement=replacement    # If True, allows repeated sampling of the same item\n",
        "    )\n",
        "\n",
        "    return sampler"
      ]
    },
    {
      "cell_type": "markdown",
      "metadata": {
        "id": "par-xkaMFjdj"
      },
      "source": [
        "## 2.4. Data analysis/vizualization methods"
      ]
    },
    {
      "cell_type": "markdown",
      "metadata": {
        "id": "SiOA-wXhw-Ap"
      },
      "source": [
        "### 2.4.1. Checking dataframe for multiple whitespaces/empty rows"
      ]
    },
    {
      "cell_type": "code",
      "execution_count": null,
      "metadata": {
        "id": "wZmXAKbQxH5l"
      },
      "outputs": [],
      "source": [
        "def check_bad_rows(df, text_column='text'):\n",
        "    \"\"\"\n",
        "    Checks for problematic rows in a DataFrame's text column.\n",
        "\n",
        "    Specifically, it finds:\n",
        "      - Rows where the text is empty or only whitespace.\n",
        "      - Rows containing multiple consecutive spaces or newlines.\n",
        "\n",
        "    Args:\n",
        "        df (pd.DataFrame): DataFrame containing the text data.\n",
        "        text_column (str): Name of the column with text to check.\n",
        "\n",
        "    Prints:\n",
        "        Number of empty rows and rows with multiple spaces/newlines.\n",
        "    \"\"\"\n",
        "    empty_rows = df[df[text_column].str.strip() == '']\n",
        "\n",
        "    # Find rows containing two or more consecutive whitespace characters (spaces, tabs, newlines)\n",
        "    multi_space_rows = df[df[text_column].str.contains(r'\\s{2,}', na=False)]\n",
        "\n",
        "    print(f\"Empty rows found: {len(empty_rows)}\")\n",
        "\n",
        "    print(f\"\\nRows with multiple spaces/newlines: {len(multi_space_rows)}\")"
      ]
    },
    {
      "cell_type": "markdown",
      "metadata": {
        "id": "7RXFoERUufLE"
      },
      "source": [
        "### 2.4.2. Data examples pretty pringing"
      ]
    },
    {
      "cell_type": "code",
      "execution_count": null,
      "metadata": {
        "id": "ukS1BBHoum8u"
      },
      "outputs": [],
      "source": [
        "def print_examples(df, n=5):\n",
        "    \"\"\"\n",
        "    Prints the first n rows of a DataFrame in a nicely formatted table.\n",
        "\n",
        "    Args:\n",
        "        df (pd.DataFrame): DataFrame containing the data to display.\n",
        "        n (int): Number of rows to print from the top of the DataFrame.\n",
        "    \"\"\"\n",
        "    df_sample = df.head(n).copy()\n",
        "\n",
        "    align = {}\n",
        "    for col in df_sample.columns:\n",
        "        if col == 'text':\n",
        "            align[col] = 'left'\n",
        "        else:\n",
        "            align[col] = 'center'\n",
        "\n",
        "    print(tabulate(\n",
        "        df_sample,\n",
        "        headers='keys',\n",
        "        tablefmt='fancy_grid',\n",
        "        showindex=False,\n",
        "        colalign=[align[col] for col in df_sample.columns]\n",
        "    ))"
      ]
    },
    {
      "cell_type": "markdown",
      "metadata": {
        "id": "cAN5C4q_JDYq"
      },
      "source": [
        "### 2.4.3. Whole dataset distribution of lables"
      ]
    },
    {
      "cell_type": "code",
      "execution_count": null,
      "metadata": {
        "id": "0zf7vGJ-JI3g"
      },
      "outputs": [],
      "source": [
        "def print_label_distribution(labels):\n",
        "    \"\"\"\n",
        "    Prints the distribution of labels in a dataset as a formatted table.\n",
        "\n",
        "    Args:\n",
        "        labels (List[int] or List[str]): List of class labels.\n",
        "    \"\"\"\n",
        "    total = len(labels)\n",
        "    counts = Counter(labels)\n",
        "    labels_sorted = sorted(counts)\n",
        "\n",
        "    table = []\n",
        "    for label in labels_sorted:\n",
        "        count = counts[label]\n",
        "        percent = (count / total) * 100\n",
        "        table.append([label, count, f\"{percent:.2f}%\"])\n",
        "\n",
        "    table.append([\"Total\", total, \"100.00%\"])\n",
        "\n",
        "    print(tabulate(table, headers=[\"Label\", \"Count\", \"Percentage\"], tablefmt=\"fancy_grid\"))"
      ]
    },
    {
      "cell_type": "markdown",
      "metadata": {
        "id": "AVk2NbHPprei"
      },
      "source": [
        "### 2.4.4. Total data discribution plotting for train/val/test"
      ]
    },
    {
      "cell_type": "code",
      "execution_count": null,
      "metadata": {
        "id": "6eCFX7ssFscw"
      },
      "outputs": [],
      "source": [
        "def plot_label_distributions(train_counts, val_counts, test_counts, title=\"Label Distribution in Train/Val/Test\"):\n",
        "    \"\"\"\n",
        "    Plots side-by-side bar charts showing label counts for train, validation, and test sets.\n",
        "\n",
        "    Args:\n",
        "        train_counts (dict): Dictionary mapping labels to counts in the training set.\n",
        "        val_counts (dict): Dictionary mapping labels to counts in the validation set.\n",
        "        test_counts (dict): Dictionary mapping labels to counts in the test set.\n",
        "        title (str): Title of the plot.\n",
        "    \"\"\"\n",
        "\n",
        "    # Get all unique labels present across train, val, and test sets\n",
        "    all_labels = sorted(set(train_counts) | set(val_counts) | set(test_counts))\n",
        "\n",
        "    # Extract counts for each label; default to 0 if label not present in a split\n",
        "    train_values = [train_counts.get(label, 0) for label in all_labels]\n",
        "    val_values = [val_counts.get(label, 0) for label in all_labels]\n",
        "    test_values = [test_counts.get(label, 0) for label in all_labels]\n",
        "\n",
        "    x = np.arange(len(all_labels))  # label positions on the x-axis\n",
        "    width = 0.25  # width of each bar\n",
        "\n",
        "    fig, ax = plt.subplots(figsize=(10, 6))\n",
        "\n",
        "    # Plot bars for each dataset, offsetting their positions to avoid overlap\n",
        "    bars_train = ax.bar(x - width, train_values, width, label='Train', color='lightblue', edgecolor='black')\n",
        "    bars_val = ax.bar(x, val_values, width, label='Validation', color='salmon', edgecolor='black')\n",
        "    bars_test = ax.bar(x + width, test_values, width, label='Test', color='lightgreen', edgecolor='black')\n",
        "\n",
        "    # Set axis labels and title\n",
        "    ax.set_xlabel('Labels')\n",
        "    ax.set_ylabel('Count')\n",
        "    ax.set_title(title)\n",
        "    ax.set_xticks(x)\n",
        "    ax.set_xticklabels(all_labels)\n",
        "    ax.legend()\n",
        "\n",
        "    # Function to add count labels above each bar for clarity\n",
        "    def autolabel(bars):\n",
        "        for bar in bars:\n",
        "            height = bar.get_height()\n",
        "            ax.annotate(\n",
        "                f'{height}',\n",
        "                xy=(bar.get_x() + bar.get_width() / 2, height),\n",
        "                xytext=(0, 3),  # vertical offset\n",
        "                textcoords=\"offset points\",\n",
        "                ha='center',\n",
        "                va='bottom',\n",
        "                fontsize=8\n",
        "            )\n",
        "\n",
        "    # Add labels to all bars\n",
        "    autolabel(bars_train)\n",
        "    autolabel(bars_val)\n",
        "    autolabel(bars_test)\n",
        "\n",
        "    plt.tight_layout()\n",
        "    plt.show()\n"
      ]
    },
    {
      "cell_type": "markdown",
      "metadata": {
        "id": "JYky1jmpTsve"
      },
      "source": [
        "### 2.4.5. Text length distribution for individual dataset"
      ]
    },
    {
      "cell_type": "code",
      "execution_count": null,
      "metadata": {
        "id": "N3QDvrktUAIm"
      },
      "outputs": [],
      "source": [
        "def plot_avg_length_by_rating(texts, labels, split_name):\n",
        "    \"\"\"\n",
        "    Plots the average number of words per review grouped by rating for a given dataset split,\n",
        "    showing only integer ratings on the x-axis.\n",
        "\n",
        "    Args:\n",
        "        texts (List[str]): List of review texts.\n",
        "        labels (List[int] or List[float]): Corresponding list of ratings/labels.\n",
        "        split_name (str): Name of the dataset split (e.g., 'Train', 'Validation', 'Test') to display in the title.\n",
        "    \"\"\"\n",
        "    df = pd.DataFrame({'text': texts, 'rating': labels})\n",
        "    df['length'] = df['text'].apply(lambda x: len(x.split()))\n",
        "    avg_length = df.groupby('rating')['length'].mean()\n",
        "\n",
        "    plt.figure(figsize=(8, 5))\n",
        "    bars = plt.bar(avg_length.index, avg_length.values, color='lightgreen', edgecolor='black')\n",
        "    plt.title(f'Average review length by rating - {split_name}')\n",
        "    plt.xlabel('Rating')\n",
        "    plt.ylabel('Average number of words')\n",
        "    plt.grid(axis='y', linestyle='--', alpha=0.7)\n",
        "\n",
        "    # Set x-axis ticks to be exactly the integer rating values\n",
        "    plt.xticks(ticks=avg_length.index, labels=[str(int(r)) for r in avg_length.index])\n",
        "\n",
        "    plt.tight_layout()\n",
        "    plt.show()"
      ]
    },
    {
      "cell_type": "markdown",
      "metadata": {
        "id": "Ko7aaas4UbIx"
      },
      "source": [
        "### 2.4.6. Reviews per place (top N, for individual dataset)"
      ]
    },
    {
      "cell_type": "code",
      "execution_count": null,
      "metadata": {
        "id": "2OG7giooUhWR"
      },
      "outputs": [],
      "source": [
        "def plot_reviews_per_place(places, split_name, top_n=20):\n",
        "    \"\"\"\n",
        "    Plots a horizontal bar chart showing the top N places by number of reviews.\n",
        "\n",
        "    Args:\n",
        "        places (List[str]): List of place names corresponding to reviews.\n",
        "        split_name (str): Name of the dataset split (e.g., 'Train', 'Validation', 'Test') to display in the title.\n",
        "        top_n (int, optional): Number of top places to display. Defaults to 20.\n",
        "    \"\"\"\n",
        "    # Count the occurrences of each place\n",
        "    place_counts = Counter(places)\n",
        "\n",
        "    most_common = place_counts.most_common(top_n)\n",
        "    places_list, counts_list = zip(*most_common)  # unzip into separate lists\n",
        "\n",
        "    plt.figure(figsize=(10, 6))\n",
        "    # Plot horizontal bars; reverse to have the highest count at the top\n",
        "    plt.barh(places_list[::-1], counts_list[::-1], color='salmon', edgecolor='black')\n",
        "    plt.title(f'Top {top_n} Places by number of reviews - {split_name}')\n",
        "    plt.xlabel('Number of reviews')\n",
        "    plt.ylabel('Place')\n",
        "    plt.grid(axis='x', linestyle='--', alpha=0.7)  # vertical grid lines\n",
        "    plt.tight_layout()\n",
        "    plt.show()"
      ]
    },
    {
      "cell_type": "markdown",
      "metadata": {
        "id": "9rr_d1zAUnwm"
      },
      "source": [
        "### 2.4.7. Top words per individual dataset (stopwords excluded)"
      ]
    },
    {
      "cell_type": "code",
      "execution_count": null,
      "metadata": {
        "id": "I7o3lWUcTWAP"
      },
      "outputs": [],
      "source": [
        "stop_words = set(stopwords.words('english'))\n",
        "def print_top_words_per_rating(texts, labels, stop_words, top_n=10):\n",
        "    \"\"\"\n",
        "    Prints the top N most frequent words for each rating, excluding stopwords.\n",
        "\n",
        "    Args:\n",
        "        texts (List[str]): List of review texts.\n",
        "        labels (List[int] or List[str]): Corresponding list of ratings/labels.\n",
        "        stop_words (set): Set of words to exclude (e.g., common stopwords).\n",
        "        top_n (int, optional): Number of top words to display per rating. Default is 10.\n",
        "    \"\"\"\n",
        "    grouped_texts = defaultdict(list)\n",
        "    for text, label in zip(texts, labels):\n",
        "        grouped_texts[label].append(text)\n",
        "\n",
        "    rating_top_words = {}\n",
        "    for rating, texts_list in grouped_texts.items():\n",
        "        all_words = ' '.join(texts_list).lower().split()\n",
        "        filtered_words = [w for w in all_words if w not in stop_words]\n",
        "        word_counts = Counter(filtered_words)\n",
        "        rating_top_words[rating] = word_counts.most_common(top_n)\n",
        "\n",
        "    sorted_ratings = sorted(rating_top_words.keys())\n",
        "\n",
        "    rows = []\n",
        "    for i in range(top_n):\n",
        "        row = []\n",
        "        for rating in sorted_ratings:\n",
        "            try:\n",
        "                word, count = rating_top_words[rating][i]\n",
        "                row.append(f\"{word} ({count})\")\n",
        "            except IndexError:\n",
        "                row.append(\"\")\n",
        "        rows.append(row)\n",
        "\n",
        "    headers = [f\"Rating {r}\" for r in sorted_ratings]\n",
        "    print(tabulate(rows, headers=headers, tablefmt=\"fancy_grid\"))"
      ]
    },
    {
      "cell_type": "markdown",
      "metadata": {
        "id": "86ygjA0rFtEO"
      },
      "source": [
        "## 2.5. Training methods"
      ]
    },
    {
      "cell_type": "markdown",
      "metadata": {
        "id": "V_hGDzi5ev7-"
      },
      "source": [
        "### 2.5.1. Tokinezation methods"
      ]
    },
    {
      "cell_type": "code",
      "execution_count": null,
      "metadata": {
        "id": "DRVWeGNv9Ajd"
      },
      "outputs": [],
      "source": [
        "def tokenize_texts(texts, tokenizer, max_length=128):\n",
        "    \"\"\"\n",
        "    Tokenizes a list of texts using the provided tokenizer, with padding and truncation.\n",
        "\n",
        "    Args:\n",
        "        texts (List[str]): List of raw text strings to tokenize.\n",
        "        tokenizer (PreTrainedTokenizer): Huggingface tokenizer instance.\n",
        "        max_length (int, optional): Maximum sequence length after tokenization. Defaults to 128.\n",
        "\n",
        "    Returns:\n",
        "        BatchEncoding: Tokenized output as PyTorch tensors.\n",
        "    \"\"\"\n",
        "    return tokenizer(\n",
        "        texts,\n",
        "        max_length=max_length,\n",
        "        padding='max_length',\n",
        "        truncation=True,\n",
        "        return_tensors='pt'\n",
        "    )"
      ]
    },
    {
      "cell_type": "code",
      "execution_count": null,
      "metadata": {
        "id": "YcO1mQPsDE1_"
      },
      "outputs": [],
      "source": [
        "def save_tokenized(tokenized_data, filename):\n",
        "    torch.save(tokenized_data, filename)\n",
        "\n",
        "def load_tokenized(filename):\n",
        "    return torch.load(filename)"
      ]
    },
    {
      "cell_type": "markdown",
      "metadata": {
        "id": "u1cKfxNkDm8u"
      },
      "source": [
        "### 2.5.2. RNN not-used token claning method"
      ]
    },
    {
      "cell_type": "code",
      "execution_count": null,
      "metadata": {
        "id": "gIUe2MvpnHAr"
      },
      "outputs": [],
      "source": [
        "SPECIAL_TO_REMOVE = torch.tensor([101, 102, 103])  # [CLS], [SEP], [MASK]\n",
        "\n",
        "def clean_input_ids(input_ids):\n",
        "    \"\"\"\n",
        "    Cleans input token IDs by removing specified special tokens and replacing them with the padding token ID (0).\n",
        "\n",
        "    Args:\n",
        "        input_ids (torch.Tensor): Tensor of token IDs (shape: batch_size x sequence_length).\n",
        "\n",
        "    Returns:\n",
        "        torch.Tensor: Cleaned tensor where tokens in SPECIAL_TO_REMOVE are replaced with padding ID (0).\n",
        "    \"\"\"\n",
        "     # Create a mask for tokens NOT in SPECIAL_TO_REMOVE\n",
        "    keep_mask = ~torch.isin(input_ids, SPECIAL_TO_REMOVE)\n",
        "\n",
        "    # Replace removed tokens with [PAD] (ID = 0)\n",
        "    cleaned = torch.where(keep_mask, input_ids, torch.tensor(0))\n",
        "    return cleaned"
      ]
    },
    {
      "cell_type": "markdown",
      "metadata": {
        "id": "aUi4Xqnje1Bk"
      },
      "source": [
        "### 2.5.2. Train methods"
      ]
    },
    {
      "cell_type": "code",
      "execution_count": null,
      "metadata": {
        "id": "j37fZNm-UEaL"
      },
      "outputs": [],
      "source": [
        "def train_one_epoch_rnn(model, loss_func, optimizer, train_loader, device):\n",
        "    \"\"\"\n",
        "    Trains the RNN model for one epoch.\n",
        "\n",
        "    Args:\n",
        "        model (nn.Module): The RNN model to train.\n",
        "        loss_func: Loss function (e.g., CrossEntropyLoss).\n",
        "        optimizer: Optimizer (e.g., Adam).\n",
        "        train_loader (DataLoader): DataLoader for training data.\n",
        "        device (torch.device): Device to run the training on (CPU or GPU).\n",
        "\n",
        "    Returns:\n",
        "        tuple: Average loss, accuracy, macro F1 score, and off-by-one accuracy for the epoch.\n",
        "    \"\"\"\n",
        "    model.train()\n",
        "    total_loss = 0\n",
        "    all_preds = []\n",
        "    all_labels = []\n",
        "\n",
        "    for input_ids, labels in train_loader:\n",
        "        input_ids = input_ids.to(device)\n",
        "        labels = labels.to(device).long().squeeze()\n",
        "\n",
        "        batch_size = input_ids.size(0)\n",
        "        hidden_size = model.lstm.hidden_size\n",
        "        num_layers = model.lstm.num_layers\n",
        "\n",
        "        # Initialize hidden and cell states with zeros\n",
        "        hidden_in = torch.zeros(num_layers, batch_size, hidden_size).to(device)\n",
        "        mem_in = torch.zeros(num_layers, batch_size, hidden_size).to(device)\n",
        "\n",
        "        optimizer.zero_grad()\n",
        "\n",
        "        outputs, hidden_out, mem_out = model(input_ids, hidden_in, mem_in)\n",
        "\n",
        "        # Use output at last timestep for classification\n",
        "        logits = outputs[:, -1, :]\n",
        "\n",
        "        loss = loss_func(logits, labels)\n",
        "        loss.backward()\n",
        "        optimizer.step()\n",
        "\n",
        "        total_loss += loss.item()\n",
        "        preds = torch.argmax(logits, dim=1)\n",
        "        all_preds.extend(preds.cpu().numpy())\n",
        "        all_labels.extend(labels.cpu().numpy())\n",
        "\n",
        "    avg_loss = total_loss / len(train_loader)\n",
        "    acc = accuracy_score(all_labels, all_preds)\n",
        "    f1 = f1_score(all_labels, all_preds, average='macro')\n",
        "    off_by_1_acc = np.mean(np.abs(np.array(all_preds) - np.array(all_labels)) <= 1)\n",
        "\n",
        "    return avg_loss, acc, f1, off_by_1_acc\n",
        "\n",
        "\n",
        "def validate_one_epoch_rnn(model, loss_func, val_loader, device):\n",
        "    \"\"\"\n",
        "    Evaluates the RNN model on validation data for one epoch.\n",
        "\n",
        "    Args:\n",
        "        model (nn.Module): The RNN model to evaluate.\n",
        "        loss_func: Loss function.\n",
        "        val_loader (DataLoader): DataLoader for validation data.\n",
        "        device (torch.device): Device to run the evaluation on.\n",
        "\n",
        "    Returns:\n",
        "        tuple: Average loss, accuracy, macro F1 score, and off-by-one accuracy for the validation set.\n",
        "    \"\"\"\n",
        "    model.eval()\n",
        "    total_loss = 0\n",
        "    all_preds = []\n",
        "    all_labels = []\n",
        "\n",
        "    with torch.no_grad():\n",
        "        for input_ids, labels in val_loader:\n",
        "            input_ids = input_ids.to(device)\n",
        "            labels = labels.to(device).long()\n",
        "\n",
        "            batch_size = input_ids.size(0)\n",
        "            hidden_size = model.lstm.hidden_size\n",
        "            num_layers = model.lstm.num_layers\n",
        "\n",
        "            # Initialize hidden and cell states to zeros\n",
        "            hidden_in = torch.zeros(num_layers, batch_size, hidden_size).to(device)\n",
        "            mem_in = torch.zeros(num_layers, batch_size, hidden_size).to(device)\n",
        "\n",
        "            outputs, hidden_out, mem_out = model(input_ids, hidden_in, mem_in)\n",
        "            logits = outputs[:, -1, :]\n",
        "\n",
        "            loss = loss_func(logits, labels)\n",
        "            total_loss += loss.item()\n",
        "\n",
        "            preds = torch.argmax(logits, dim=1)\n",
        "            all_preds.extend(preds.cpu().numpy())\n",
        "            all_labels.extend(labels.cpu().numpy())\n",
        "\n",
        "    avg_loss = total_loss / len(val_loader)\n",
        "    acc = accuracy_score(all_labels, all_preds)\n",
        "    f1 = f1_score(all_labels, all_preds, average='macro')\n",
        "    off_by_1_acc = np.mean(np.abs(np.array(all_preds) - np.array(all_labels)) <= 1)\n",
        "\n",
        "    return avg_loss, acc, f1, off_by_1_acc"
      ]
    },
    {
      "cell_type": "code",
      "execution_count": null,
      "metadata": {
        "id": "u7djG3-PFx0k"
      },
      "outputs": [],
      "source": [
        "def train_one_epoch(model, loss_func, optimizer, train_loader, device):\n",
        "    \"\"\"\n",
        "    Train one epoch for transformer models like BERT/DistilBERT.\n",
        "\n",
        "    Args:\n",
        "        model: Transformer-based model (e.g., BERT, DistilBERT).\n",
        "        loss_func: Loss function (e.g., CrossEntropyLoss).\n",
        "        optimizer: Optimizer.\n",
        "        train_loader: DataLoader yielding (input_ids, attention_mask, labels).\n",
        "        device: torch.device ('cpu' or 'cuda').\n",
        "\n",
        "    Returns:\n",
        "        avg_loss: Average training loss for the epoch.\n",
        "        acc: Accuracy over training set.\n",
        "        f1: Macro F1 score over training set.\n",
        "        off_by_1_acc: Accuracy allowing predictions off by 1 rating.\n",
        "    \"\"\"\n",
        "    model.train()\n",
        "    total_loss = 0\n",
        "    all_preds = []\n",
        "    all_labels = []\n",
        "\n",
        "    for input_ids, attention_mask, labels in train_loader:\n",
        "        input_ids = input_ids.to(device)\n",
        "        attention_mask = attention_mask.to(device)\n",
        "        labels = labels.to(device).long()  # classification labels should be long for CrossEntropyLoss\n",
        "\n",
        "        optimizer.zero_grad()\n",
        "\n",
        "        outputs = model(input_ids=input_ids, attention_mask=attention_mask)\n",
        "        logits = outputs.logits\n",
        "\n",
        "        loss = loss_func(logits, labels)\n",
        "        loss.backward()\n",
        "        optimizer.step()\n",
        "\n",
        "        total_loss += loss.item()\n",
        "        preds = torch.argmax(logits, dim=1)\n",
        "        all_preds.extend(preds.cpu().numpy())\n",
        "        all_labels.extend(labels.cpu().numpy())\n",
        "\n",
        "    avg_loss = total_loss / len(train_loader)\n",
        "    acc = accuracy_score(all_labels, all_preds)\n",
        "    f1 = f1_score(all_labels, all_preds, average='macro')\n",
        "    off_by_1_acc = np.mean(np.abs(np.array(all_preds) - np.array(all_labels)) <= 1)\n",
        "\n",
        "    return avg_loss, acc, f1, off_by_1_acc\n",
        "\n",
        "\n",
        "def validate_one_epoch(model, loss_func, val_loader, device):\n",
        "    \"\"\"\n",
        "    Validate one epoch for transformer models like BERT/DistilBERT.\n",
        "\n",
        "    Args:\n",
        "        model: Transformer-based model.\n",
        "        loss_func: Loss function.\n",
        "        val_loader: DataLoader yielding (input_ids, attention_mask, labels).\n",
        "        device: torch.device.\n",
        "\n",
        "    Returns:\n",
        "        avg_loss: Average validation loss.\n",
        "        acc: Accuracy on validation set.\n",
        "        f1: Macro F1 score on validation set.\n",
        "        off_by_1_acc: Accuracy allowing predictions off by 1 rating.\n",
        "    \"\"\"\n",
        "    model.eval()\n",
        "    total_loss = 0\n",
        "    all_preds = []\n",
        "    all_labels = []\n",
        "\n",
        "    with torch.no_grad():\n",
        "        for input_ids, attention_mask, labels in val_loader:\n",
        "            input_ids = input_ids.to(device)\n",
        "            attention_mask = attention_mask.to(device)\n",
        "            labels = labels.to(device).long()\n",
        "\n",
        "            outputs = model(input_ids=input_ids, attention_mask=attention_mask)\n",
        "            logits = outputs.logits\n",
        "\n",
        "            loss = loss_func(logits, labels)\n",
        "            total_loss += loss.item()\n",
        "\n",
        "            preds = torch.argmax(logits, dim=1)\n",
        "            all_preds.extend(preds.cpu().numpy())\n",
        "            all_labels.extend(labels.cpu().numpy())\n",
        "\n",
        "    avg_loss = total_loss / len(val_loader)\n",
        "    acc = accuracy_score(all_labels, all_preds)\n",
        "    f1 = f1_score(all_labels, all_preds, average='macro')\n",
        "    off_by_1_acc = np.mean(np.abs(np.array(all_preds) - np.array(all_labels)) <= 1)\n",
        "\n",
        "    return avg_loss, acc, f1, off_by_1_acc\n",
        "\n",
        "\n",
        "def train_model(model, loss_func, optimizer, train_loader, val_loader, num_epochs=5, early_exit_patience=3):\n",
        "    \"\"\"\n",
        "    Train the given model for multiple epochs with early stopping.\n",
        "\n",
        "    Args:\n",
        "        model (torch.nn.Module): Model to train.\n",
        "        loss_func: Loss function.\n",
        "        optimizer: Optimizer.\n",
        "        train_loader (DataLoader): Training data loader.\n",
        "        val_loader (DataLoader): Validation data loader.\n",
        "        num_epochs (int): Max number of epochs to train.\n",
        "        early_exit_patience (int or None): Early stopping patience on val F1 if it doesnt chnage.\n",
        "        verbose (bool): Whether to print epoch logs.\n",
        "\n",
        "    Returns:\n",
        "        dict: Training history with losses, accuracy, f1 scores, off-by-1 acc.\n",
        "    \"\"\"\n",
        "    device = torch.device(\"cuda\" if torch.cuda.is_available() else \"cpu\")\n",
        "    print(f\"Device: {device}\")\n",
        "\n",
        "    model.to(device)\n",
        "\n",
        "    history = {\n",
        "        'train_loss': [],\n",
        "        'train_acc': [],\n",
        "        'train_f1': [],\n",
        "        'train_off_by_1_acc': [],\n",
        "        'val_loss': [],\n",
        "        'val_acc': [],\n",
        "        'val_f1': [],\n",
        "        'val_off_by_1_acc': []\n",
        "    }\n",
        "\n",
        "    best_f1 = 0.0\n",
        "    patience_counter = 0\n",
        "    is_rnn = isinstance(model, LSTM)\n",
        "\n",
        "    for epoch in range(num_epochs):\n",
        "        print(f\"\\nEpoch {epoch + 1}/{num_epochs}\")\n",
        "\n",
        "        if is_rnn:\n",
        "            train_loss, train_acc, train_f1, train_off_by_1_acc = train_one_epoch_rnn(model, loss_func, optimizer, train_loader, device)\n",
        "            val_loss, val_acc, val_f1, val_off_by_1_acc = validate_one_epoch_rnn(model, loss_func, val_loader, device)\n",
        "        else:\n",
        "            train_loss, train_acc, train_f1, train_off_by_1_acc = train_one_epoch(model, loss_func, optimizer, train_loader, device)\n",
        "            val_loss, val_acc, val_f1, val_off_by_1_acc = validate_one_epoch(model, loss_func, val_loader, device)\n",
        "\n",
        "        history['train_loss'].append(train_loss)\n",
        "        history['train_acc'].append(train_acc)\n",
        "        history['train_f1'].append(train_f1)\n",
        "        history['train_off_by_1_acc'].append(train_off_by_1_acc)\n",
        "        history['val_loss'].append(val_loss)\n",
        "        history['val_acc'].append(val_acc)\n",
        "        history['val_f1'].append(val_f1)\n",
        "        history['val_off_by_1_acc'].append(val_off_by_1_acc)\n",
        "\n",
        "        print(f\"Train Loss: {train_loss:.4f} | Train Acc: {train_acc:.4f} | Train F1: {train_f1:.4f} | Train Off-by-1 Acc: {train_off_by_1_acc:.4f}\")\n",
        "        print(f\"Val   Loss: {val_loss:.4f} | Val   Acc: {val_acc:.4f} | Val   F1: {val_f1:.4f} | Val   Off-by-1 Acc: {val_off_by_1_acc:.4f}\")\n",
        "\n",
        "        # Save after every epoch for safety\n",
        "        torch.save(model.state_dict(), f\"model_epoch_{epoch + 1}.pt\")\n",
        "        print(f\"Saved model checkpoint for epoch {epoch + 1}\")\n",
        "\n",
        "        # save best models by f1\n",
        "        if val_f1 > best_f1:\n",
        "            best_f1 = val_f1\n",
        "            torch.save(model.state_dict(), f\"best_model_f1_{val_f1:.4f}.pt\")\n",
        "            print(f\"Saved best model with F1: {val_f1:.4f}\")\n",
        "            patience_counter = 0\n",
        "        else:\n",
        "            patience_counter += 1\n",
        "            if early_exit_patience is not None and patience_counter >= early_exit_patience:\n",
        "                print(f\"Early stopping triggered at epoch {epoch + 1}. No improvement in F1 for {early_exit_patience} epochs.\")\n",
        "                break\n",
        "\n",
        "    print(\"\\nTraining complete.\")\n",
        "    return history\n"
      ]
    },
    {
      "cell_type": "markdown",
      "metadata": {
        "id": "ATqVFKK4-HeM"
      },
      "source": [
        "### 2.5.3. Train/val loss, acc and f1 plotting"
      ]
    },
    {
      "cell_type": "code",
      "execution_count": null,
      "metadata": {
        "id": "4hIS9zT6-Sb9"
      },
      "outputs": [],
      "source": [
        "def plot_full_training_curves(history):\n",
        "    \"\"\"\n",
        "    Plots training and validation curves for loss, accuracy, and F1 score.\n",
        "\n",
        "    Args:\n",
        "        history (dict): Dictionary containing lists for keys:\n",
        "            - 'train_loss', 'val_loss'\n",
        "            - 'train_acc', 'val_acc'\n",
        "            - 'train_f1', 'val_f1'\n",
        "            Optionally:\n",
        "            - 'train_off_by_1_acc', 'val_off_by_1_acc'\n",
        "    \"\"\"\n",
        "    epochs = range(1, len(history['train_loss']) + 1)\n",
        "\n",
        "    plt.figure(figsize=(16, 12))\n",
        "\n",
        "    # Loss\n",
        "    plt.subplot(3, 1, 1)\n",
        "    plt.plot(epochs, history['train_loss'], label='Train Loss', marker='o')\n",
        "    plt.plot(epochs, history['val_loss'], label='Val Loss', marker='o')\n",
        "    plt.title('Loss')\n",
        "    plt.xlabel('Epochs')\n",
        "    plt.ylabel('Loss')\n",
        "    plt.legend()\n",
        "    plt.grid(True)\n",
        "\n",
        "    # Accuracy\n",
        "    plt.subplot(3, 1, 2)\n",
        "    plt.plot(epochs, history['train_acc'], label='Train Accuracy', marker='o')\n",
        "    plt.plot(epochs, history['val_acc'], label='Val Accuracy', marker='o')\n",
        "    plt.title('Accuracy')\n",
        "    plt.xlabel('Epochs')\n",
        "    plt.ylabel('Accuracy')\n",
        "    plt.legend()\n",
        "    plt.grid(True)\n",
        "\n",
        "    # F1 score\n",
        "    plt.subplot(3, 1, 3)\n",
        "    plt.plot(epochs, history['train_f1'], label='Train F1', marker='o')\n",
        "    plt.plot(epochs, history['val_f1'], label='Val F1', marker='o')\n",
        "    plt.title('F1 Score')\n",
        "    plt.xlabel('Epochs')\n",
        "    plt.ylabel('F1')\n",
        "    plt.legend()\n",
        "    plt.grid(True)\n",
        "\n",
        "    plt.tight_layout()\n",
        "    plt.show()"
      ]
    },
    {
      "cell_type": "markdown",
      "metadata": {
        "id": "gapx9Qt0NAvT"
      },
      "source": [
        "## 2.6 Testing methods"
      ]
    },
    {
      "cell_type": "markdown",
      "metadata": {
        "id": "aS3RfcYqD-Vn"
      },
      "source": [
        "### 2.6.1. Weights loading method"
      ]
    },
    {
      "cell_type": "code",
      "execution_count": null,
      "metadata": {
        "id": "YQiHT6ZdCIAb"
      },
      "outputs": [],
      "source": [
        "def loadWeights(model, path, name):\n",
        "    \"\"\"\n",
        "    Downloads and loads pretrained weights into a given PyTorch model.\n",
        "\n",
        "    Args:\n",
        "        model (nn.Module): The model into which the weights will be loaded.\n",
        "        path (str): URL to the weights file.\n",
        "        name (str): Local filename to save the downloaded weights.\n",
        "    \"\"\"\n",
        "    print(f\"Loading weights from {path}...\")\n",
        "\n",
        "    torch.hub.download_url_to_file(path, name)\n",
        "\n",
        "    # Load the state dictionary (model weights) with proper device mapping\n",
        "    if torch.cuda.is_available():\n",
        "        # Load weights directly if a GPU is available\n",
        "        state_dict = torch.load(name, weights_only=False)\n",
        "    else:\n",
        "        # Load weights and map them to CPU if no GPU is available\n",
        "        state_dict = torch.load(name, weights_only=False, map_location=torch.device('cpu'))\n",
        "\n",
        "    # Load the weights into the model\n",
        "    model.load_state_dict(state_dict)\n",
        "\n",
        "    print(\"Weights loaded!\")"
      ]
    },
    {
      "cell_type": "markdown",
      "metadata": {
        "id": "iRyql1GdECUP"
      },
      "source": [
        "### 2.6.2. Testing data getter"
      ]
    },
    {
      "cell_type": "code",
      "execution_count": null,
      "metadata": {
        "id": "wO7gPb4KNIUZ"
      },
      "outputs": [],
      "source": [
        "def test(model, dataloader):\n",
        "    \"\"\"\n",
        "    Runs inference on the test dataset and returns predictions.\n",
        "\n",
        "    Args:\n",
        "        model: PyTorch model (RNN or Transformer).\n",
        "        dataloader: DataLoader yielding batches of inputs (and possibly labels).\n",
        "\n",
        "    Returns:\n",
        "        all_preds: List of predicted class indices.\n",
        "    \"\"\"\n",
        "    device = torch.device(\"cuda\" if torch.cuda.is_available() else \"cpu\")\n",
        "    print(f\"Device: {device}\")\n",
        "\n",
        "    model.to(device)\n",
        "    model.eval()\n",
        "\n",
        "    all_preds = []\n",
        "\n",
        "    is_rnn = hasattr(model, \"lstm\")  # heuristic for your LSTM\n",
        "    is_transformer = hasattr(model, \"model\")  # heuristic for nlptown wrapper\n",
        "\n",
        "    with torch.no_grad():\n",
        "        for batch in tqdm(dataloader, desc=\"Testing\"):\n",
        "            # unpack batch depending on dataloader output\n",
        "            # assuming dataloader returns either (input_ids, labels) for RNN\n",
        "            # or (input_ids, attention_mask, labels) for transformers\n",
        "            if is_rnn:\n",
        "                # unpack input_ids, labels\n",
        "                if len(batch) == 2:\n",
        "                    input_ids, labels = batch\n",
        "                else:\n",
        "                    raise ValueError(\"Expected batch (input_ids, labels) for RNN\")\n",
        "                input_ids = input_ids.to(device)\n",
        "                batch_size = input_ids.size(0)\n",
        "\n",
        "                # Prepare hidden/cell states\n",
        "                hidden_size = model.lstm.hidden_size\n",
        "                num_layers = model.lstm.num_layers\n",
        "                hidden_in = torch.zeros(num_layers, batch_size, hidden_size).to(device)\n",
        "                mem_in = torch.zeros(num_layers, batch_size, hidden_size).to(device)\n",
        "\n",
        "                outputs = model(input_ids, hidden_in, mem_in)\n",
        "\n",
        "                if isinstance(outputs, (tuple, list)):\n",
        "                    outputs = outputs[0]\n",
        "\n",
        "                logits = outputs[:, -1, :]\n",
        "\n",
        "            else:\n",
        "                # For transformer, expect input_ids, attention_mask, labels\n",
        "                if len(batch) == 3:\n",
        "                    input_ids, attention_mask, labels = batch\n",
        "                else:\n",
        "                    raise ValueError(\"Expected batch (input_ids, attention_mask, labels) for transformer\")\n",
        "\n",
        "                input_ids = input_ids.to(device)\n",
        "                attention_mask = attention_mask.to(device)\n",
        "\n",
        "                if is_transformer:\n",
        "                    outputs = model.model(input_ids=input_ids, attention_mask=attention_mask)\n",
        "                else:\n",
        "                    outputs = model(input_ids=input_ids, attention_mask=attention_mask)\n",
        "\n",
        "                logits = outputs.logits if hasattr(outputs, \"logits\") else outputs\n",
        "\n",
        "            preds = torch.argmax(logits, dim=1)\n",
        "            all_preds.extend(preds.cpu().numpy())\n",
        "\n",
        "    return all_preds"
      ]
    },
    {
      "cell_type": "markdown",
      "metadata": {
        "id": "dAWOHDGeEM3N"
      },
      "source": [
        "### 2.6.3. Metrics table"
      ]
    },
    {
      "cell_type": "code",
      "execution_count": null,
      "metadata": {
        "id": "6M2Om5TANlIy"
      },
      "outputs": [],
      "source": [
        "def compare_metrics(true_labels, model_preds_dict):\n",
        "    \"\"\"\n",
        "    Compare classification metrics across multiple models.\n",
        "\n",
        "    Args:\n",
        "        true_labels (list or array): Ground truth labels.\n",
        "        model_preds_dict (dict): Dictionary mapping model names to their predicted labels.\n",
        "\n",
        "    Returns:\n",
        "        pd.DataFrame: DataFrame summarizing metrics for each model.\n",
        "    \"\"\"\n",
        "    rows = []\n",
        "    for model_name, preds in model_preds_dict.items():\n",
        "        report = classification_report(true_labels, preds, output_dict=True)\n",
        "\n",
        "        # Extract desired metrics\n",
        "        accuracy = report['accuracy']\n",
        "        macro_precision = report['macro avg']['precision']\n",
        "        macro_recall = report['macro avg']['recall']\n",
        "        macro_f1 = report['macro avg']['f1-score']\n",
        "        weighted_precision = report['weighted avg']['precision']\n",
        "        weighted_recall = report['weighted avg']['recall']\n",
        "        weighted_f1 = report['weighted avg']['f1-score']\n",
        "\n",
        "        off_by_1_acc = np.mean(np.abs(np.array(preds) - np.array(true_labels)) <= 1)\n",
        "\n",
        "        rows.append({\n",
        "            'Model': model_name,\n",
        "            'Accuracy': accuracy,\n",
        "            'Off-by-1 accuracy': off_by_1_acc,\n",
        "            'Macro Precision': macro_precision,\n",
        "            'Macro Recall': macro_recall,\n",
        "            'Macro F1-score': macro_f1,\n",
        "            'Weighted Precision': weighted_precision,\n",
        "            'Weighted Recall': weighted_recall,\n",
        "            'Weighted F1-score': weighted_f1\n",
        "        })\n",
        "\n",
        "    df_metrics = pd.DataFrame(rows)\n",
        "    df_metrics.set_index('Model', inplace=True)\n",
        "    return df_metrics"
      ]
    },
    {
      "cell_type": "markdown",
      "metadata": {
        "id": "jSStudX4EUyX"
      },
      "source": [
        "### 2.6.4. Confustion matrix"
      ]
    },
    {
      "cell_type": "code",
      "execution_count": null,
      "metadata": {
        "id": "KH7Yy8N8EYjm"
      },
      "outputs": [],
      "source": [
        "def plot_confusion_matrix(true_labels, preds, model_name):\n",
        "    \"\"\"\n",
        "    Plots the confusion matrix for model predictions.\n",
        "\n",
        "    Args:\n",
        "        true_labels (list or array): Ground truth labels.\n",
        "        preds (list or array): Predicted labels.\n",
        "        model_name (str): Name of the model (for the plot title).\n",
        "    \"\"\"\n",
        "    labels = sorted(set(true_labels))\n",
        "    matrix = confusion_matrix(true_labels, preds, labels=labels)\n",
        "\n",
        "    seaborn.heatmap(matrix, annot=True, fmt='d', xticklabels=labels, yticklabels=labels)\n",
        "    plt.title(f\"{model_name} confusion matrix\")\n",
        "    plt.ylabel('True label')\n",
        "    plt.xlabel('Predicted label')\n",
        "    plt.show()"
      ]
    },
    {
      "cell_type": "markdown",
      "metadata": {
        "id": "w-v1PoxfEaAI"
      },
      "source": [
        "### 2.6.5. Comparison examples"
      ]
    },
    {
      "cell_type": "code",
      "execution_count": null,
      "metadata": {
        "id": "7dalNo3dEw6l"
      },
      "outputs": [],
      "source": [
        "def show_comparison_examples(texts, true_labels, preds_dict, indices=None):\n",
        "    \"\"\"\n",
        "    Display example texts along with their true labels and predictions from multiple models.\n",
        "\n",
        "    Args:\n",
        "        texts (list of str): List of input texts.\n",
        "        true_labels (list): True labels corresponding to the texts.\n",
        "        preds_dict (dict): Dictionary where keys are model names and values are prediction lists.\n",
        "        indices (list or None): List of indices of examples to display. If None, show first 5 examples.\n",
        "\n",
        "    For each selected example, this function prints:\n",
        "    - The example text\n",
        "    - The true label\n",
        "    - Which models predicted correctly\n",
        "    - Each model's prediction, marked as correct (✅) or incorrect (❌)\n",
        "    \"\"\"\n",
        "    if indices == None:\n",
        "        indices = range(min(5, len(texts)))\n",
        "\n",
        "    for i in indices:\n",
        "        text = texts[i]\n",
        "        true_label = true_labels[i]\n",
        "\n",
        "        winners = [name for name, preds in preds_dict.items() if preds[i] == true_label]\n",
        "        model_preds = {name: preds[i] for name, preds in preds_dict.items()}\n",
        "\n",
        "        print(\"=\" * 100)\n",
        "        print(f\"Example {i+1}\")\n",
        "        print(\"-\" * 100)\n",
        "        print(f\"Text: {text}\")\n",
        "        print(f\"True Label: {true_label}\")\n",
        "        print(f\"Correct Predictions: {', '.join(winners) if winners else 'None'}\")\n",
        "        print(f\"Model Predictions:\")\n",
        "        for model_name, pred in model_preds.items():\n",
        "            correct = \"✅\" if pred == true_label else \"❌\"\n",
        "            print(f\"{model_name}: {pred} {correct}\")\n",
        "    print(\"=\" * 100)\n",
        "\n",
        "def select_filtered_examples(true_labels, preds_dict, filter_type=\"all\", num_examples=5):\n",
        "    # A better version would cache all the necessary catagories and have a selection method.\n",
        "\n",
        "    selected = []\n",
        "\n",
        "    # Get the name of the first (main) model\n",
        "    model_names = list(preds_dict.keys())\n",
        "    main_model = model_names[0]\n",
        "\n",
        "    for i, true_label in enumerate(true_labels):\n",
        "        predictions = {model: preds[i] for model, preds in preds_dict.items()}\n",
        "        correct_models = [m for m, p in predictions.items() if p == true_label]\n",
        "        incorrect_models = [m for m, p in predictions.items() if p != true_label]\n",
        "\n",
        "        match filter_type.lower():\n",
        "            case \"tp\": # All models correct\n",
        "                condition = len(correct_models) == len(preds_dict)\n",
        "            case \"fp\": # All models wrong\n",
        "                condition = len(correct_models) == 0\n",
        "            case \"tp_main\": # Only main model correct\n",
        "                condition = predictions[main_model] == true_label\n",
        "            case \"fp_main\": # Only main model wrong\n",
        "                condition = predictions[main_model] != true_label\n",
        "            case \"mixed\" | \"disagree\":\n",
        "                condition = 0 < len(correct_models) < len(preds_dict)\n",
        "            case \"any\":\n",
        "                condition = len(correct_models) > 0\n",
        "            case \"none\":\n",
        "                condition = True # No filtering\n",
        "            case _:\n",
        "                continue\n",
        "\n",
        "        if condition:\n",
        "            selected.append(i)\n",
        "\n",
        "    if not selected:\n",
        "        return []\n",
        "\n",
        "    random.shuffle(selected)\n",
        "    return selected[:num_examples]"
      ]
    },
    {
      "cell_type": "markdown",
      "metadata": {
        "id": "yepgBxFNEyNc"
      },
      "source": [
        "### 2.6.6. Manual testing"
      ]
    },
    {
      "cell_type": "code",
      "execution_count": null,
      "metadata": {
        "id": "EwNhpcJcIr7X"
      },
      "outputs": [],
      "source": [
        "def test_model_manual(evaluation_models_data, label_names=None, device=\"cpu\"):\n",
        "    \"\"\"\n",
        "    Interactive widget to manually input text and a true label,\n",
        "    run the model prediction, and display results.\n",
        "\n",
        "    Args:\n",
        "        evaluation_models_data (dict): Dict mapping model names to (model, loader) tuples.\n",
        "        tokenizer: Tokenizer compatible with the model.\n",
        "        label_names (list or None): Optional list of label names to display.\n",
        "        device (str): 'cpu' or 'cuda' device for model inference.\n",
        "    \"\"\"\n",
        "    model_names = list(evaluation_models_data.keys())\n",
        "    model_dropdown = widgets.Dropdown(options=model_names, description=\"Model:\")\n",
        "\n",
        "    text_box = widgets.Text(description=\"Text:\", layout=widgets.Layout(width='600px'))\n",
        "    label_box = widgets.Text(description=\"True label:\")\n",
        "    run_btn = widgets.Button(description=\"Predict\", button_style='primary')\n",
        "    out_area = widgets.Output()\n",
        "\n",
        "    def on_click(_):\n",
        "        with out_area:\n",
        "            out_area.clear_output()\n",
        "\n",
        "            model_name = model_dropdown.value\n",
        "            model = evaluation_models_data[model_name][0]\n",
        "\n",
        "            # Choose tokenizer\n",
        "            used_tokenizer = tokenizer_distilbert if isinstance(model, DistilBertModel) else tokenizer\n",
        "\n",
        "            model.to(device).eval()\n",
        "\n",
        "            is_rnn = hasattr(model, \"lstm\")\n",
        "            is_transformer = hasattr(model, \"model\")\n",
        "\n",
        "            text = text_box.value.strip()\n",
        "            true_raw = label_box.value.strip()\n",
        "\n",
        "            if not text:\n",
        "                print(\"⚠️ Please enter some text.\")\n",
        "                return\n",
        "\n",
        "            if is_rnn:\n",
        "                # Tokenize just input_ids for RNN (assumed)\n",
        "                enc = used_tokenizer(text,\n",
        "                                return_tensors=\"pt\",\n",
        "                                padding=\"max_length\",\n",
        "                                truncation=True,\n",
        "                                max_length=64)\n",
        "                input_ids = clean_input_ids(enc[\"input_ids\"].to(device))\n",
        "\n",
        "                batch_size = input_ids.size(0)\n",
        "                hidden_size = model.lstm.hidden_size\n",
        "                num_layers = model.lstm.num_layers\n",
        "\n",
        "                hidden_in = torch.zeros(num_layers, batch_size, hidden_size, device=device)\n",
        "                mem_in = torch.zeros(num_layers, batch_size, hidden_size, device=device)\n",
        "\n",
        "                with torch.no_grad():\n",
        "                    outputs = model(input_ids, hidden_in, mem_in)\n",
        "\n",
        "                # If tuple, unpack (outputs, hidden_out, mem_out)\n",
        "                if isinstance(outputs, (tuple, list)):\n",
        "                    outputs = outputs[0]\n",
        "\n",
        "                logits = outputs[:, -1, :]  # last timestep\n",
        "\n",
        "            else:\n",
        "                # For transformers: get input_ids and attention_mask\n",
        "                enc = used_tokenizer(text,\n",
        "                                return_tensors=\"pt\",\n",
        "                                padding=True,\n",
        "                                truncation=True,\n",
        "                                max_length=64)\n",
        "                input_ids = enc[\"input_ids\"].to(device)\n",
        "                attention_mask = enc[\"attention_mask\"].to(device)\n",
        "\n",
        "                with torch.no_grad():\n",
        "                    # if wrapper model, call inner model\n",
        "                    if is_transformer:\n",
        "                        out = model.model(input_ids=input_ids, attention_mask=attention_mask)\n",
        "                    else:\n",
        "                        out = model(input_ids=input_ids, attention_mask=attention_mask)\n",
        "\n",
        "                # out can be SequenceClassifierOutput or logits tensor\n",
        "                if hasattr(out, \"logits\"):\n",
        "                    logits = out.logits\n",
        "                else:\n",
        "                    logits = out\n",
        "\n",
        "            probs = F.softmax(logits, dim=1)\n",
        "            pred_idx = torch.argmax(probs, dim=1).item()\n",
        "\n",
        "            # Validate true label input\n",
        "            try:\n",
        "                true_idx = int(true_raw) - 1\n",
        "                if true_idx not in range(logits.size(1)):\n",
        "                    raise ValueError\n",
        "            except ValueError:\n",
        "                print(f\"⚠️ True label must be an integer between 1 and {logits.size(1)}.\")\n",
        "                return\n",
        "\n",
        "            # Map to label names or just display numbers\n",
        "            if label_names and len(label_names) == logits.size(1):\n",
        "                pred_name = label_names[pred_idx]\n",
        "                true_name = label_names[true_idx]\n",
        "            else:\n",
        "                pred_name = str(pred_idx + 1)\n",
        "                true_name = str(true_idx + 1)\n",
        "\n",
        "            if pred_idx == true_idx:\n",
        "                print(f\"✅ Correct! Predicted: {pred_name} | True: {true_name}\")\n",
        "            else:\n",
        "                print(f\"❌ Incorrect. Predicted: {pred_name} | True: {true_name}\")\n",
        "\n",
        "    run_btn.on_click(on_click)\n",
        "    display(widgets.VBox([model_dropdown, text_box, label_box, run_btn, out_area]))"
      ]
    },
    {
      "cell_type": "markdown",
      "metadata": {
        "id": "fN2XqVtkrFRd"
      },
      "source": [
        "# **3. Dataset loading, data preparation and analisys**"
      ]
    },
    {
      "cell_type": "markdown",
      "metadata": {
        "id": "Eom0mwsFGRQ1"
      },
      "source": [
        "## 3.1. Data loading and small whitespace clean-up, general analisys"
      ]
    },
    {
      "cell_type": "markdown",
      "metadata": {
        "id": "r9zU-DidFAAY"
      },
      "source": [
        "### 3.1.1. Loading dataset and checking that whitespaces are gone"
      ]
    },
    {
      "cell_type": "markdown",
      "metadata": {
        "id": "ocfYyAfKFIG9"
      },
      "source": [
        "Since we will use bert tokeizers we may not worry about many text processing moments such as lowercasing, unknown symbols ect."
      ]
    },
    {
      "cell_type": "code",
      "execution_count": null,
      "metadata": {
        "id": "VuxHQ1Pux6pz"
      },
      "outputs": [],
      "source": [
        "reviews = pd.read_json(DATA_PATH, lines=True)"
      ]
    },
    {
      "cell_type": "code",
      "execution_count": null,
      "metadata": {
        "colab": {
          "base_uri": "https://localhost:8080/"
        },
        "id": "769VAbg-x7PM",
        "outputId": "6150b78d-91db-427a-af5b-cd0c443d6463"
      },
      "outputs": [
        {
          "name": "stdout",
          "output_type": "stream",
          "text": [
            "Empty rows found: 0\n",
            "\n",
            "Rows with multiple spaces/newlines: 22008\n"
          ]
        }
      ],
      "source": [
        "check_bad_rows(reviews)\n",
        "\n",
        "# Clean 'text' column: remove extra spaces/newlines\n",
        "reviews['text'] = reviews['text'].str.strip()\n",
        "reviews['text'] = reviews['text'].str.replace(r'\\s+', ' ', regex=True)"
      ]
    },
    {
      "cell_type": "code",
      "execution_count": null,
      "metadata": {
        "colab": {
          "base_uri": "https://localhost:8080/"
        },
        "id": "Ndnyplb0GTo3",
        "outputId": "f138ec41-7896-423c-e636-89f0c34a5d68"
      },
      "outputs": [
        {
          "name": "stdout",
          "output_type": "stream",
          "text": [
            "╒════════════════╤══════════╤══════════════════════════════════════════════════════════════════════════════════════════════════════════════════════════════════════════════════════════════════════════════════════════════════════════════════════════════════════════════════════════════════════════════════════════════════════════════════════════════════════════════════════════════════════════════════════════════════════════════════════════════════════════════════════════════════════════════════════════════════════════════════════════════════════════════════════════════════════════════════════════════════════════════════════════════════════════════════════════════════════════════════════════════════════════════════════════════════════════════════════════════════════════════════════════════════════════════════════════════════════════════════════════════════════════════════════════╕\n",
            "│     place      │  rating  │ text                                                                                                                                                                                                                                                                                                                                                                                                                                                                                                                                                                                                                                                                                                                                                                                                                                                                                     │\n",
            "╞════════════════╪══════════╪══════════════════════════════════════════════════════════════════════════════════════════════════════════════════════════════════════════════════════════════════════════════════════════════════════════════════════════════════════════════════════════════════════════════════════════════════════════════════════════════════════════════════════════════════════════════════════════════════════════════════════════════════════════════════════════════════════════════════════════════════════════════════════════════════════════════════════════════════════════════════════════════════════════════════════════════════════════════════════════════════════════════════════════════════════════════════════════════════════════════════════════════════════════════════════════════════════════════════════════════════════════════════════════════════════════════════════════╡\n",
            "│ Trevi Fountain │    1     │ I was at this pizzeria. The price was already high — 35 euros for a pizza and a small bottle of water — but I accepted it since it’s in a tourist area. Toward the end of my meal, the waiter quickly brought the bill and insisted I pay in cash. I told him I didn’t have cash, only a card. He said they only accept cash. This clearly suggests they’re trying to avoid traceable payments, probably to hide how much money they actually make. That’s their problem, but the way they treated me was the real issue. The owner kept staring at me and pushed for immediate payment, while other guests weren’t pressured at all. It was obvious I was treated differently just because I was a foreigner. The owner’s attitude was clearly racist. The waiters were nice and polite — no complaints about them. But I absolutely do not recommend this place. Rude and racist owner │\n",
            "├────────────────┼──────────┼──────────────────────────────────────────────────────────────────────────────────────────────────────────────────────────────────────────────────────────────────────────────────────────────────────────────────────────────────────────────────────────────────────────────────────────────────────────────────────────────────────────────────────────────────────────────────────────────────────────────────────────────────────────────────────────────────────────────────────────────────────────────────────────────────────────────────────────────────────────────────────────────────────────────────────────────────────────────────────────────────────────────────────────────────────────────────────────────────────────────────────────────────────────────────────────────────────────────────────────────────────────────────────────────────────────────────────────┤\n",
            "│ Trevi Fountain │    1     │ 4 small beers and 4 omelette, one \"pizza\" bread 158€ It's a fraud place. Usually we check all the places from Google. This time we didn't so learning by mistake. First they wanted cash then they also charged One's card the whole amount. Shame on them. Now we are too far away to make anything                                                                                                                                                                                                                                                                                                                                                                                                                                                                                                                                                                                     │\n",
            "├────────────────┼──────────┼──────────────────────────────────────────────────────────────────────────────────────────────────────────────────────────────────────────────────────────────────────────────────────────────────────────────────────────────────────────────────────────────────────────────────────────────────────────────────────────────────────────────────────────────────────────────────────────────────────────────────────────────────────────────────────────────────────────────────────────────────────────────────────────────────────────────────────────────────────────────────────────────────────────────────────────────────────────────────────────────────────────────────────────────────────────────────────────────────────────────────────────────────────────────────────────────────────────────────────────────────────────────────────────────────────────────────────────┤\n",
            "│ Trevi Fountain │    1     │ Waiter asked me if I wanted a small or large beer so I said large (as a large beer is a pint/0.5L beer in most of the world). Anyway they bring out a german Mass (1Liter!) glass that ended up costing 20 Euros excluding a mandatory 2 Euro tip they put on the bill for themselves. Then I came to see the reviews and comments and laughed out loud realizing I’m not the first, and definitely not the last person to be scammed by these scoundrels. Just a shame such a place can even exist, literally next to a beautiful train station. Karma’s a B💫🫡                                                                                                                                                                                                                                                                                                                        │\n",
            "├────────────────┼──────────┼──────────────────────────────────────────────────────────────────────────────────────────────────────────────────────────────────────────────────────────────────────────────────────────────────────────────────────────────────────────────────────────────────────────────────────────────────────────────────────────────────────────────────────────────────────────────────────────────────────────────────────────────────────────────────────────────────────────────────────────────────────────────────────────────────────────────────────────────────────────────────────────────────────────────────────────────────────────────────────────────────────────────────────────────────────────────────────────────────────────────────────────────────────────────────────────────────────────────────────────────────────────────────────────────────────────────────────────┤\n",
            "│ Trevi Fountain │    1     │ Nice employee, nice music, but it is a tourist scam place. They charge too much for the food. 35€ for frozen lasagna, 35€ for chicken salad (not a bad salad, not as bad as the lasagna). And so on... run away from this place!!!                                                                                                                                                                                                                                                                                                                                                                                                                                                                                                                                                                                                                                                       │\n",
            "├────────────────┼──────────┼──────────────────────────────────────────────────────────────────────────────────────────────────────────────────────────────────────────────────────────────────────────────────────────────────────────────────────────────────────────────────────────────────────────────────────────────────────────────────────────────────────────────────────────────────────────────────────────────────────────────────────────────────────────────────────────────────────────────────────────────────────────────────────────────────────────────────────────────────────────────────────────────────────────────────────────────────────────────────────────────────────────────────────────────────────────────────────────────────────────────────────────────────────────────────────────────────────────────────────────────────────────────────────────────────────────────────────────┤\n",
            "│ Trevi Fountain │    1     │ This place should be shut down. There's an infamous waiter also mentioned in the other reviews who doesn't bring menus to the table, is very pushy and at the end very aggressively demands tips. I honestly kind of feared for my safety when I wanted to leave. Prices are enormous, the location is close to the station but the bare minimum in all other aspects and there's a tension in the atmosphere as soon as you make the mistake of sitting down. I don't only advise you against going there, I recommend *running* in the other direction.                                                                                                                                                                                                                                                                                                                                │\n",
            "├────────────────┼──────────┼──────────────────────────────────────────────────────────────────────────────────────────────────────────────────────────────────────────────────────────────────────────────────────────────────────────────────────────────────────────────────────────────────────────────────────────────────────────────────────────────────────────────────────────────────────────────────────────────────────────────────────────────────────────────────────────────────────────────────────────────────────────────────────────────────────────────────────────────────────────────────────────────────────────────────────────────────────────────────────────────────────────────────────────────────────────────────────────────────────────────────────────────────────────────────────────────────────────────────────────────────────────────────────────────────────────────────────────┤\n",
            "│ Trevi Fountain │    1     │ Worst meal in Italy. The waiter took 5 euros extra saying it covers his tip. They have a card machine but they only take payment by cash probably for some shady work. The food was below average. Typical frozen lasagne taste. Tourist trap - beware.                                                                                                                                                                                                                                                                                                                                                                                                                                                                                                                                                                                                                                  │\n",
            "├────────────────┼──────────┼──────────────────────────────────────────────────────────────────────────────────────────────────────────────────────────────────────────────────────────────────────────────────────────────────────────────────────────────────────────────────────────────────────────────────────────────────────────────────────────────────────────────────────────────────────────────────────────────────────────────────────────────────────────────────────────────────────────────────────────────────────────────────────────────────────────────────────────────────────────────────────────────────────────────────────────────────────────────────────────────────────────────────────────────────────────────────────────────────────────────────────────────────────────────────────────────────────────────────────────────────────────────────────────────────────────────────────────┤\n",
            "│ Trevi Fountain │    1     │ Well just a little warning our first day in Milan and have been left with a sour taste. Got intimitaded to having a sit down at this place outside Central Station, then they didn't want to give us a menu wanted us to order food reluctantly we ordered bruschetta, they were constantly at the table pressuring you to order more So 1 bruschetta and 1 beer, 1 vodka and 2 apreol spritz later and we are now down 95euro. We don't mind paying a bit over the odds but this was over the top and the customer service bullish. Please aware of visiting milan                                                                                                                                                                                                                                                                                                                      │\n",
            "╘════════════════╧══════════╧══════════════════════════════════════════════════════════════════════════════════════════════════════════════════════════════════════════════════════════════════════════════════════════════════════════════════════════════════════════════════════════════════════════════════════════════════════════════════════════════════════════════════════════════════════════════════════════════════════════════════════════════════════════════════════════════════════════════════════════════════════════════════════════════════════════════════════════════════════════════════════════════════════════════════════════════════════════════════════════════════════════════════════════════════════════════════════════════════════════════════════════════════════════════════════════════════════════════════════════════════════════════════════════════════════════════════════════╛\n"
          ]
        }
      ],
      "source": [
        "print_examples(reviews, n=7)\n",
        "\n",
        "texts = reviews['text'].tolist()\n",
        "places = reviews['place'].tolist()\n",
        "labels = reviews['rating'].tolist()"
      ]
    },
    {
      "cell_type": "markdown",
      "metadata": {
        "id": "Rxn1RuyIFVYZ"
      },
      "source": [
        "### 3.1.2. Checking label distribution in our dataset"
      ]
    },
    {
      "cell_type": "code",
      "execution_count": null,
      "metadata": {
        "colab": {
          "base_uri": "https://localhost:8080/"
        },
        "id": "oX_BuvxCIv6Q",
        "outputId": "d8d5c952-6c8f-4d72-c926-3eeac401e6ec"
      },
      "outputs": [
        {
          "name": "stdout",
          "output_type": "stream",
          "text": [
            "╒═════════╤═════════╤══════════════╕\n",
            "│ Label   │   Count │ Percentage   │\n",
            "╞═════════╪═════════╪══════════════╡\n",
            "│ 1       │   21395 │ 15.81%       │\n",
            "├─────────┼─────────┼──────────────┤\n",
            "│ 2       │    7186 │ 5.31%        │\n",
            "├─────────┼─────────┼──────────────┤\n",
            "│ 3       │   11268 │ 8.33%        │\n",
            "├─────────┼─────────┼──────────────┤\n",
            "│ 4       │   21622 │ 15.98%       │\n",
            "├─────────┼─────────┼──────────────┤\n",
            "│ 5       │   73812 │ 54.56%       │\n",
            "├─────────┼─────────┼──────────────┤\n",
            "│ Total   │  135283 │ 100.00%      │\n",
            "╘═════════╧═════════╧══════════════╛\n"
          ]
        }
      ],
      "source": [
        "print_label_distribution(labels)"
      ]
    },
    {
      "cell_type": "code",
      "execution_count": null,
      "metadata": {
        "colab": {
          "base_uri": "https://localhost:8080/"
        },
        "id": "lVP4l_EWKvxL",
        "outputId": "c1f53a2d-03ee-4141-bcc4-025df741c8ba"
      },
      "outputs": [
        {
          "name": "stdout",
          "output_type": "stream",
          "text": [
            "Average length: 38.11 words\n",
            "Longest text: 841 words\n",
            "Shortest text: 1 words\n"
          ]
        }
      ],
      "source": [
        "word_counts = [len(text.split()) for text in texts]\n",
        "\n",
        "# Average number of words\n",
        "avg_words = sum(word_counts) / len(word_counts)\n",
        "print(f\"Average length: {avg_words:.2f} words\")\n",
        "\n",
        "# Longest text by word count\n",
        "max_words = max(word_counts)\n",
        "print(f\"Longest text: {max_words} words\")\n",
        "\n",
        "# Shortest text by word count\n",
        "min_words = min(word_counts)\n",
        "print(f\"Shortest text: {min_words} words\")"
      ]
    },
    {
      "cell_type": "markdown",
      "metadata": {
        "id": "Z-RRjZl5rp1R"
      },
      "source": [
        "## 3.2. Text tokenization"
      ]
    },
    {
      "cell_type": "code",
      "execution_count": null,
      "metadata": {
        "colab": {
          "base_uri": "https://localhost:8080/"
        },
        "id": "gMkPqFdT8EK_",
        "outputId": "76f7c202-d91a-4038-bd00-3e5850fcbcc8"
      },
      "outputs": [
        {
          "name": "stderr",
          "output_type": "stream",
          "text": [
            "/usr/local/lib/python3.11/dist-packages/huggingface_hub/utils/_auth.py:94: UserWarning: \n",
            "The secret `HF_TOKEN` does not exist in your Colab secrets.\n",
            "To authenticate with the Hugging Face Hub, create a token in your settings tab (https://huggingface.co/settings/tokens), set it as secret in your Google Colab and restart your session.\n",
            "You will be able to reuse this secret in all of your notebooks.\n",
            "Please note that authentication is recommended but still optional to access public models or datasets.\n",
            "  warnings.warn(\n"
          ]
        }
      ],
      "source": [
        "tokenizer = AutoTokenizer.from_pretrained('nlptown/bert-base-multilingual-uncased-sentiment')\n",
        "tokenizer_distilbert = AutoTokenizer.from_pretrained(\"distilbert-base-uncased\")"
      ]
    },
    {
      "cell_type": "code",
      "execution_count": null,
      "metadata": {
        "id": "hma6ru215-O2"
      },
      "outputs": [],
      "source": [
        "if FULL_SET:\n",
        "    # Split sizes\n",
        "    TEST_SIZE = 0.1 # real size 0.1\n",
        "    VAL_SIZE = 0.1 # real size 0.1\n",
        "    TRAIN_SIZE = 0.8  # real size 0.8\n",
        "\n",
        "    # First split: test vs (train+val), keeping places aligned\n",
        "    texts_temp, texts_test, places_temp, places_test, labels_temp, labels_test = train_test_split(\n",
        "        texts, places, labels,\n",
        "        train_size=TRAIN_SIZE + VAL_SIZE,\n",
        "        test_size=TEST_SIZE,\n",
        "        random_state=42,\n",
        "        stratify=labels\n",
        "    )\n",
        "\n",
        "    # Calculate relative val size inside train+val\n",
        "    val_relative_size = VAL_SIZE / (TRAIN_SIZE + VAL_SIZE)\n",
        "\n",
        "    # Second split: train vs val\n",
        "    texts_train, texts_val, places_train, places_val, labels_train, labels_val = train_test_split(\n",
        "        texts_temp, places_temp, labels_temp,\n",
        "        test_size=val_relative_size,\n",
        "        random_state=42,\n",
        "        stratify=labels_temp\n",
        "    )\n",
        "\n",
        "    labels_train = [label - 1 for label in labels_train]\n",
        "    labels_val = [label - 1 for label in labels_val]\n",
        "    labels_test = [label - 1 for label in labels_test]\n",
        "elif THREE_CLASS:\n",
        "    texts_train, places_train, labels_train, texts_val, places_val, labels_val, texts_test, places_test, labels_test = split_3class(labels, texts, places)\n",
        "else:\n",
        "    texts_train, places_train, labels_train, texts_val, places_val, labels_val, texts_test, places_test, labels_test = split_25_5_5(labels, texts, places)"
      ]
    },
    {
      "cell_type": "code",
      "execution_count": null,
      "metadata": {
        "colab": {
          "background_save": true
        },
        "id": "0dtR6L4G8SFG"
      },
      "outputs": [],
      "source": [
        "if TOKENIZE:\n",
        "    train_tokens = tokenize_texts(texts_train, tokenizer)\n",
        "    val_tokens = tokenize_texts(texts_val, tokenizer)\n",
        "    test_tokens = tokenize_texts(texts_test, tokenizer)\n",
        "\n",
        "    train_tokens_distilbert = tokenize_texts(texts_train, tokenizer_distilbert)\n",
        "    val_tokens_distilbert = tokenize_texts(texts_val, tokenizer_distilbert)\n",
        "    test_tokens_distilbert = tokenize_texts(texts_test, tokenizer_distilbert)\n",
        "\n",
        "    # Save tokenized data to disk\n",
        "    save_tokenized(train_tokens, 'train_tokens.pt')\n",
        "    save_tokenized(val_tokens, 'val_tokens.pt')\n",
        "    save_tokenized(test_tokens, 'test_tokens.pt')\n",
        "\n",
        "    #TOKENIZE=False\n",
        "\n",
        "else:\n",
        "    # Load from files\n",
        "    train_tokens = load_tokenized('train_tokens.pt')\n",
        "    val_tokens = load_tokenized('val_tokens.pt')\n",
        "    test_tokens = load_tokenized('test_tokens.pt')"
      ]
    },
    {
      "cell_type": "markdown",
      "metadata": {
        "id": "nL8OkTuMTXjo"
      },
      "source": [
        "## 3.3. Dataset object creation with accoring classes"
      ]
    },
    {
      "cell_type": "code",
      "execution_count": null,
      "metadata": {
        "colab": {
          "background_save": true
        },
        "id": "Kerv36utlZ8A"
      },
      "outputs": [],
      "source": [
        "# For bert\n",
        "train_dataset = ReviewsDataset(train_tokens, texts_train, labels_train, places_train)\n",
        "val_dataset = ReviewsDataset(val_tokens, texts_val, labels_val, places_val)\n",
        "test_dataset = ReviewsDataset(test_tokens, texts_test, labels_test, places_test)"
      ]
    },
    {
      "cell_type": "code",
      "execution_count": null,
      "metadata": {
        "colab": {
          "background_save": true
        },
        "id": "hQd02JWELEuW"
      },
      "outputs": [],
      "source": [
        "# For distilbert\n",
        "# While bert and distilbert both use the same tokenizer their tokenizer classes seem to have slight differences\n",
        "train_dataset_distilbert = ReviewsDataset(train_tokens_distilbert, texts_train, labels_train, places_train)\n",
        "val_dataset_distilbert = ReviewsDataset(val_tokens_distilbert, texts_val, labels_val, places_val)\n",
        "test_dataset_distilbert = ReviewsDataset(test_tokens_distilbert, texts_test, labels_test, places_test)"
      ]
    },
    {
      "cell_type": "code",
      "execution_count": null,
      "metadata": {
        "colab": {
          "background_save": true
        },
        "id": "cE7r6V85ndbl",
        "outputId": "e0bf7d2e-89b2-4e67-b33b-4e7c7efb98f7"
      },
      "outputs": [
        {
          "name": "stdout",
          "output_type": "stream",
          "text": [
            "tensor([[  101, 10103, 32481,  ...,     0,     0,     0],\n",
            "        [  101, 10757,   100,  ...,     0,     0,     0],\n",
            "        [  101, 11523, 10855,  ...,     0,     0,     0],\n",
            "        ...,\n",
            "        [  101,   151, 10407,  ...,     0,     0,     0],\n",
            "        [  101, 10399, 10108,  ...,     0,     0,     0],\n",
            "        [  101, 83944, 10901,  ...,     0,     0,     0]])\n",
            "tensor([[    0, 10103, 32481,  ...,     0,     0,     0],\n",
            "        [    0, 10757,   100,  ...,     0,     0,     0],\n",
            "        [    0, 11523, 10855,  ...,     0,     0,     0],\n",
            "        ...,\n",
            "        [    0,   151, 10407,  ...,     0,     0,     0],\n",
            "        [    0, 10399, 10108,  ...,     0,     0,     0],\n",
            "        [    0, 83944, 10901,  ...,     0,     0,     0]])\n"
          ]
        }
      ],
      "source": [
        "# Since lstm model dont need tokens like [MASK] and so on, we cleane them out, leaving only paddings for fixed input length\n",
        "train_tokens_cleaned = clean_input_ids(train_tokens['input_ids'])\n",
        "val_tokens_cleaned = clean_input_ids(val_tokens['input_ids'])\n",
        "test_tokens_cleaned = clean_input_ids(test_tokens['input_ids'])\n",
        "\n",
        "print(val_tokens['input_ids'])\n",
        "print(val_tokens_cleaned)"
      ]
    },
    {
      "cell_type": "code",
      "execution_count": null,
      "metadata": {
        "colab": {
          "background_save": true
        },
        "id": "kteWsYDGHmy-"
      },
      "outputs": [],
      "source": [
        "# For lstm model\n",
        "train_dataset_rnn = RnnDataset(train_tokens_cleaned, labels_train)\n",
        "val_dataset_rnn = RnnDataset(val_tokens_cleaned,labels_val)\n",
        "test_dataset_rnn = RnnDataset(test_tokens_cleaned, labels_test)"
      ]
    },
    {
      "cell_type": "markdown",
      "metadata": {
        "id": "TdnCZ8etGryq"
      },
      "source": [
        "## 3.4. Data analisys"
      ]
    },
    {
      "cell_type": "markdown",
      "metadata": {
        "id": "v8_gaiBqTwN4"
      },
      "source": [
        "### 3.4.1. Checking dataset size and labekl distribution"
      ]
    },
    {
      "cell_type": "code",
      "execution_count": null,
      "metadata": {
        "colab": {
          "background_save": true
        },
        "id": "XbYUG85jGjws",
        "outputId": "c04fed88-af6a-4cd3-8fa3-b227e424afdf"
      },
      "outputs": [
        {
          "name": "stdout",
          "output_type": "stream",
          "text": [
            "Train size: 108225 (80.0%)\n",
            "Validation size: 13529 (10.0%)\n",
            "Test size: 13529 (10.0%)\n"
          ]
        }
      ],
      "source": [
        "total_size = len(labels)\n",
        "\n",
        "print(f\"Train size: {len(train_dataset)} ({len(train_dataset) / total_size:.1%})\")\n",
        "print(f\"Validation size: {len(val_dataset)} ({len(val_dataset) / total_size:.1%})\")\n",
        "print(f\"Test size: {len(test_dataset)} ({len(test_dataset) / total_size:.1%})\")"
      ]
    },
    {
      "cell_type": "code",
      "execution_count": null,
      "metadata": {
        "colab": {
          "background_save": true
        },
        "id": "t8tmKk_vC7zS"
      },
      "outputs": [],
      "source": [
        "train_counts = Counter(labels_train)\n",
        "val_counts = Counter(labels_val)\n",
        "test_counts = Counter(labels_test)"
      ]
    },
    {
      "cell_type": "code",
      "execution_count": null,
      "metadata": {
        "colab": {
          "background_save": true
        },
        "id": "OO_374pg_D3B",
        "outputId": "2c3d3345-1e45-49d1-f147-25ed86a65122"
      },
      "outputs": [
        {
          "data": {
            "image/png": "[encoded data removed]",
            "text/plain": [
              "<Figure size 1000x600 with 1 Axes>"
            ]
          },
          "metadata": {},
          "output_type": "display_data"
        }
      ],
      "source": [
        "plot_label_distributions(train_counts, val_counts, test_counts)"
      ]
    },
    {
      "cell_type": "markdown",
      "metadata": {
        "id": "m8ua-oiMT_gM"
      },
      "source": [
        "### 3.4.2. Checking each set precise statistics - average review length, most popular words for each class and so on"
      ]
    },
    {
      "cell_type": "code",
      "execution_count": null,
      "metadata": {
        "colab": {
          "background_save": true
        },
        "id": "n4NRbNGNPbx6",
        "outputId": "e815ec5c-a359-4a7f-dc5f-362e2f81f938"
      },
      "outputs": [
        {
          "name": "stdout",
          "output_type": "stream",
          "text": [
            "\n",
            "=== Train ===\n"
          ]
        },
        {
          "data": {
            "image/png": "[encoded data removed]",
            "text/plain": [
              "<Figure size 800x500 with 1 Axes>"
            ]
          },
          "metadata": {},
          "output_type": "display_data"
        },
        {
          "data": {
            "image/png": "[encoded data removed]",
            "text/plain": [
              "<Figure size 1000x600 with 1 Axes>"
            ]
          },
          "metadata": {},
          "output_type": "display_data"
        },
        {
          "name": "stdout",
          "output_type": "stream",
          "text": [
            "╒═════════╤═════════╤══════════════╕\n",
            "│ Label   │   Count │ Percentage   │\n",
            "╞═════════╪═════════╪══════════════╡\n",
            "│ 0       │   17116 │ 15.82%       │\n",
            "├─────────┼─────────┼──────────────┤\n",
            "│ 1       │    5748 │ 5.31%        │\n",
            "├─────────┼─────────┼──────────────┤\n",
            "│ 2       │    9014 │ 8.33%        │\n",
            "├─────────┼─────────┼──────────────┤\n",
            "│ 3       │   17298 │ 15.98%       │\n",
            "├─────────┼─────────┼──────────────┤\n",
            "│ 4       │   59049 │ 54.56%       │\n",
            "├─────────┼─────────┼──────────────┤\n",
            "│ Total   │  108225 │ 100.00%      │\n",
            "╘═════════╧═════════╧══════════════╛\n",
            "╒═════════════════╤════════════════╤════════════════╤════════════════╤════════════════╕\n",
            "│ Rating 0        │ Rating 1       │ Rating 2       │ Rating 3       │ Rating 4       │\n",
            "╞═════════════════╪════════════════╪════════════════╪════════════════╪════════════════╡\n",
            "│ airport (4470)  │ get (1336)     │ get (1619)     │ good (3176)    │ great (11361)  │\n",
            "├─────────────────┼────────────────┼────────────────┼────────────────┼────────────────┤\n",
            "│ get (3495)      │ people (1095)  │ good (1229)    │ great (3011)   │ place (9149)   │\n",
            "├─────────────────┼────────────────┼────────────────┼────────────────┼────────────────┤\n",
            "│ one (3302)      │ airport (1076) │ people (1149)  │ get (2631)     │ see (6710)     │\n",
            "├─────────────────┼────────────────┼────────────────┼────────────────┼────────────────┤\n",
            "│ people (3110)   │ one (913)      │ airport (1105) │ place (2178)   │ get (6603)     │\n",
            "├─────────────────┼────────────────┼────────────────┼────────────────┼────────────────┤\n",
            "│ staff (3046)    │ like (895)     │ like (1060)    │ nice (2156)    │ visit (5890)   │\n",
            "├─────────────────┼────────────────┼────────────────┼────────────────┼────────────────┤\n",
            "│ even (2913)     │ staff (878)    │ place (1019)   │ airport (1752) │ time (5876)    │\n",
            "├─────────────────┼────────────────┼────────────────┼────────────────┼────────────────┤\n",
            "│ go (2638)       │ go (850)       │ one (961)      │ time (1698)    │ good (5838)    │\n",
            "├─────────────────┼────────────────┼────────────────┼────────────────┼────────────────┤\n",
            "│ worst (2619)    │ time (778)     │ time (934)     │ one (1615)     │ one (5602)     │\n",
            "├─────────────────┼────────────────┼────────────────┼────────────────┼────────────────┤\n",
            "│ like (2450)     │ security (743) │ go (915)       │ go (1604)      │ amazing (5550) │\n",
            "├─────────────────┼────────────────┼────────────────┼────────────────┼────────────────┤\n",
            "│ security (2280) │ even (742)     │ would (856)    │ see (1582)     │ go (5298)      │\n",
            "╘═════════════════╧════════════════╧════════════════╧════════════════╧════════════════╛\n"
          ]
        }
      ],
      "source": [
        "print(\"\\n=== Train ===\")\n",
        "\n",
        "#plot_text_length_distribution(X_train, 'Train')\n",
        "plot_avg_length_by_rating(texts_train, labels_train, 'Train')\n",
        "plot_reviews_per_place(places_train, 'Train')\n",
        "print_label_distribution(labels_train)\n",
        "print_top_words_per_rating(texts_train, labels_train, stop_words, top_n=10)\n"
      ]
    },
    {
      "cell_type": "code",
      "execution_count": null,
      "metadata": {
        "colab": {
          "background_save": true
        },
        "id": "hNgYT3Dmd9SB",
        "outputId": "c52cf687-99af-4d19-f5f3-0bf9dbf4a43d"
      },
      "outputs": [
        {
          "name": "stdout",
          "output_type": "stream",
          "text": [
            "\n",
            "=== Validation ===\n"
          ]
        },
        {
          "data": {
            "image/png": "[encoded data removed]",
            "text/plain": [
              "<Figure size 800x500 with 1 Axes>"
            ]
          },
          "metadata": {},
          "output_type": "display_data"
        },
        {
          "data": {
            "image/png": "[encoded data removed]",
            "text/plain": [
              "<Figure size 1000x600 with 1 Axes>"
            ]
          },
          "metadata": {},
          "output_type": "display_data"
        },
        {
          "name": "stdout",
          "output_type": "stream",
          "text": [
            "╒═════════╤═════════╤══════════════╕\n",
            "│ Label   │   Count │ Percentage   │\n",
            "╞═════════╪═════════╪══════════════╡\n",
            "│ 0       │    2139 │ 15.81%       │\n",
            "├─────────┼─────────┼──────────────┤\n",
            "│ 1       │     719 │ 5.31%        │\n",
            "├─────────┼─────────┼──────────────┤\n",
            "│ 2       │    1127 │ 8.33%        │\n",
            "├─────────┼─────────┼──────────────┤\n",
            "│ 3       │    2162 │ 15.98%       │\n",
            "├─────────┼─────────┼──────────────┤\n",
            "│ 4       │    7382 │ 54.56%       │\n",
            "├─────────┼─────────┼──────────────┤\n",
            "│ Total   │   13529 │ 100.00%      │\n",
            "╘═════════╧═════════╧══════════════╛\n",
            "╒═══════════════╤════════════════╤═══════════════╤═══════════════╤═══════════════╕\n",
            "│ Rating 0      │ Rating 1       │ Rating 2      │ Rating 3      │ Rating 4      │\n",
            "╞═══════════════╪════════════════╪═══════════════╪═══════════════╪═══════════════╡\n",
            "│ airport (599) │ get (177)      │ get (186)     │ good (396)    │ great (1425)  │\n",
            "├───────────────┼────────────────┼───────────────┼───────────────┼───────────────┤\n",
            "│ get (485)     │ airport (156)  │ people (153)  │ great (370)   │ place (1185)  │\n",
            "├───────────────┼────────────────┼───────────────┼───────────────┼───────────────┤\n",
            "│ one (418)     │ go (139)       │ airport (152) │ get (324)     │ see (897)     │\n",
            "├───────────────┼────────────────┼───────────────┼───────────────┼───────────────┤\n",
            "│ people (416)  │ one (137)      │ good (139)    │ place (296)   │ get (865)     │\n",
            "├───────────────┼────────────────┼───────────────┼───────────────┼───────────────┤\n",
            "│ staff (389)   │ people (134)   │ like (127)    │ nice (259)    │ visit (826)   │\n",
            "├───────────────┼────────────────┼───────────────┼───────────────┼───────────────┤\n",
            "│ even (370)    │ staff (127)    │ see (126)     │ one (209)     │ good (776)    │\n",
            "├───────────────┼────────────────┼───────────────┼───────────────┼───────────────┤\n",
            "│ go (340)      │ like (112)     │ time (123)    │ go (205)      │ time (776)    │\n",
            "├───────────────┼────────────────┼───────────────┼───────────────┼───────────────┤\n",
            "│ would (330)   │ security (107) │ one (119)     │ time (204)    │ one (732)     │\n",
            "├───────────────┼────────────────┼───────────────┼───────────────┼───────────────┤\n",
            "│ worst (326)   │ place (100)    │ would (112)   │ airport (196) │ amazing (713) │\n",
            "├───────────────┼────────────────┼───────────────┼───────────────┼───────────────┤\n",
            "│ like (312)    │ would (99)     │ place (110)   │ food (186)    │ go (680)      │\n",
            "╘═══════════════╧════════════════╧═══════════════╧═══════════════╧═══════════════╛\n"
          ]
        }
      ],
      "source": [
        "print(\"\\n=== Validation ===\")\n",
        "\n",
        "#plot_text_length_distribution(X_val, 'Validation')\n",
        "plot_avg_length_by_rating(texts_val, labels_val, 'Validation')\n",
        "plot_reviews_per_place(places_val, 'Validation')\n",
        "print_label_distribution(labels_val)\n",
        "print_top_words_per_rating(texts_val, labels_val, stop_words, top_n=10)\n"
      ]
    },
    {
      "cell_type": "code",
      "execution_count": null,
      "metadata": {
        "colab": {
          "background_save": true
        },
        "id": "DVBcIvCpeACB",
        "outputId": "c40a6327-8f6b-49eb-d990-aa9532a0bb74"
      },
      "outputs": [
        {
          "name": "stdout",
          "output_type": "stream",
          "text": [
            "\n",
            "=== Test ===\n"
          ]
        },
        {
          "data": {
            "image/png": "[encoded data removed]",
            "text/plain": [
              "<Figure size 800x500 with 1 Axes>"
            ]
          },
          "metadata": {},
          "output_type": "display_data"
        },
        {
          "data": {
            "image/png": "[encoded data removed]",
            "text/plain": [
              "<Figure size 1000x600 with 1 Axes>"
            ]
          },
          "metadata": {},
          "output_type": "display_data"
        },
        {
          "name": "stdout",
          "output_type": "stream",
          "text": [
            "╒═════════╤═════════╤══════════════╕\n",
            "│ Label   │   Count │ Percentage   │\n",
            "╞═════════╪═════════╪══════════════╡\n",
            "│ 0       │    2140 │ 15.82%       │\n",
            "├─────────┼─────────┼──────────────┤\n",
            "│ 1       │     719 │ 5.31%        │\n",
            "├─────────┼─────────┼──────────────┤\n",
            "│ 2       │    1127 │ 8.33%        │\n",
            "├─────────┼─────────┼──────────────┤\n",
            "│ 3       │    2162 │ 15.98%       │\n",
            "├─────────┼─────────┼──────────────┤\n",
            "│ 4       │    7381 │ 54.56%       │\n",
            "├─────────┼─────────┼──────────────┤\n",
            "│ Total   │   13529 │ 100.00%      │\n",
            "╘═════════╧═════════╧══════════════╛\n",
            "╒════════════════╤═══════════════╤═══════════════╤═══════════════╤═══════════════╕\n",
            "│ Rating 0       │ Rating 1      │ Rating 2      │ Rating 3      │ Rating 4      │\n",
            "╞════════════════╪═══════════════╪═══════════════╪═══════════════╪═══════════════╡\n",
            "│ airport (592)  │ get (168)     │ get (216)     │ good (428)    │ great (1415)  │\n",
            "├────────────────┼───────────────┼───────────────┼───────────────┼───────────────┤\n",
            "│ one (442)      │ people (152)  │ good (159)    │ great (381)   │ place (1122)  │\n",
            "├────────────────┼───────────────┼───────────────┼───────────────┼───────────────┤\n",
            "│ get (415)      │ go (124)      │ one (153)     │ get (348)     │ see (858)     │\n",
            "├────────────────┼───────────────┼───────────────┼───────────────┼───────────────┤\n",
            "│ people (404)   │ airport (118) │ go (143)      │ place (283)   │ get (809)     │\n",
            "├────────────────┼───────────────┼───────────────┼───────────────┼───────────────┤\n",
            "│ staff (377)    │ time (111)    │ people (140)  │ nice (280)    │ good (799)    │\n",
            "├────────────────┼───────────────┼───────────────┼───────────────┼───────────────┤\n",
            "│ even (345)     │ staff (108)   │ like (127)    │ airport (218) │ visit (762)   │\n",
            "├────────────────┼───────────────┼───────────────┼───────────────┼───────────────┤\n",
            "│ go (318)       │ like (108)    │ time (122)    │ go (212)      │ time (748)    │\n",
            "├────────────────┼───────────────┼───────────────┼───────────────┼───────────────┤\n",
            "│ worst (315)    │ one (92)      │ airport (118) │ see (202)     │ go (730)      │\n",
            "├────────────────┼───────────────┼───────────────┼───────────────┼───────────────┤\n",
            "│ like (298)     │ would (90)    │ place (116)   │ time (200)    │ amazing (729) │\n",
            "├────────────────┼───────────────┼───────────────┼───────────────┼───────────────┤\n",
            "│ security (275) │ security (84) │ great (107)   │ one (193)     │ one (638)     │\n",
            "╘════════════════╧═══════════════╧═══════════════╧═══════════════╧═══════════════╛\n"
          ]
        }
      ],
      "source": [
        "print(\"\\n=== Test ===\")\n",
        "\n",
        "#plot_text_length_distribution(X_test, 'Test')\n",
        "plot_avg_length_by_rating(texts_test, labels_test, 'Test')\n",
        "plot_reviews_per_place(places_test, 'Test')\n",
        "print_label_distribution(labels_test)\n",
        "print_top_words_per_rating(texts_test, labels_test, stop_words, top_n=10)\n"
      ]
    },
    {
      "cell_type": "markdown",
      "metadata": {
        "id": "v9OHC-VbII7_"
      },
      "source": [
        "# 4.Model training"
      ]
    },
    {
      "cell_type": "markdown",
      "metadata": {
        "id": "bGqd56UFfOHI"
      },
      "source": [
        "## 4.1. Defining  dataloaders and batch size"
      ]
    },
    {
      "cell_type": "code",
      "execution_count": null,
      "metadata": {
        "colab": {
          "background_save": true
        },
        "id": "xtUj-ctfffOh"
      },
      "outputs": [],
      "source": [
        "# Adjustable batch size\n",
        "batch_size_custom = 32\n",
        "\n",
        "if SAMPLER:\n",
        "    train_sampler = createSampler(labels_train, num_samples=25000, replacement=True)\n",
        "else:\n",
        "    train_sampler = None\n",
        "\n",
        "if TRAIN and (TRAIN_DISTILBERT or TRAIN_3CLASS_DISTILBERT):\n",
        "    train_loader_distilbert = DataLoader(train_dataset_distilbert, batch_size=batch_size_custom, shuffle=not SAMPLER, sampler=train_sampler)\n",
        "    val_loader_distilbert = DataLoader(val_dataset_distilbert, batch_size=batch_size_custom, shuffle=False)\n",
        "\n",
        "if TRAIN and (TRAIN_RNN or TRAIN_3CLASS_RNN):\n",
        "    train_loader_rnn = DataLoader(RnnDataset(train_tokens_cleaned, labels_train), batch_size=batch_size_custom, drop_last=True, shuffle=not SAMPLER, sampler=train_sampler)\n",
        "    val_loader_rnn = DataLoader(RnnDataset(val_tokens_cleaned,labels_val), batch_size=batch_size_custom)\n",
        "\n",
        "test_loader = DataLoader(test_dataset, batch_size=batch_size_custom, shuffle=False)\n",
        "test_loader_distilbert = DataLoader(test_dataset_distilbert, batch_size=batch_size_custom, shuffle=False)\n",
        "test_loader_rnn = DataLoader(test_dataset_rnn, batch_size=batch_size_custom, shuffle=False)\n"
      ]
    },
    {
      "cell_type": "markdown",
      "metadata": {
        "id": "UNkODiuqIN1z"
      },
      "source": [
        "## 4.2. Model training"
      ]
    },
    {
      "cell_type": "markdown",
      "metadata": {
        "id": "CfEsOqFpf77M"
      },
      "source": [
        "### 4.2.1. Inicializing needed models"
      ]
    },
    {
      "cell_type": "code",
      "execution_count": null,
      "metadata": {
        "colab": {
          "background_save": true
        },
        "id": "XLy36joXgUqq"
      },
      "outputs": [],
      "source": [
        "if TRAIN and TRAIN_BERT:\n",
        "    model_bert = BertModel()\n",
        "\n",
        "if TRAIN and TRAIN_RNN:\n",
        "    model_rnn = LSTM(\n",
        "    num_emb=tokenizer.vocab_size,  # 30522 for bert-base-uncased\n",
        "    output_size=5,                 # for labels 0 to 4\n",
        "    num_layers=2,                  # one LSTM layer\n",
        "    hidden_size=128                # size of hidden state\n",
        "    )\n",
        "\n",
        "if TRAIN and TRAIN_DISTILBERT:\n",
        "    model_distilbert = DistilBertModel()\n",
        "\n",
        "if TRAIN and TRAIN_3CLASS_DISTILBERT:\n",
        "    model_3class_distilbert = DistilBertModel(num_labels=3)\n",
        "\n",
        "if TRAIN and TRAIN_3CLASS_RNN:\n",
        "    model_3class_rnn = LSTM(\n",
        "    num_emb=tokenizer.vocab_size,  # 30522 for bert-base-uncased\n",
        "    output_size=3,                 # for labels 0 to 4\n",
        "    num_layers=2,                  # two LSTM layers\n",
        "    hidden_size=128                # size of hidden state\n",
        "    )"
      ]
    },
    {
      "cell_type": "markdown",
      "metadata": {
        "id": "ZWAmhYM5UbBj"
      },
      "source": [
        "### 4.2.2. RNN training (5-classes)"
      ]
    },
    {
      "cell_type": "code",
      "execution_count": null,
      "metadata": {
        "colab": {
          "background_save": true
        },
        "id": "vL_Jub8-SK-p"
      },
      "outputs": [],
      "source": [
        "if TRAIN and TRAIN_RNN:\n",
        "    print(\"Training RNN\")\n",
        "    # Only parameters with requires_grad=True will be optimized\n",
        "    optimizer = torch.optim.Adam(model_rnn.parameters(), lr=1e-3)\n",
        "    loss_fct = nn.CrossEntropyLoss()\n",
        "\n",
        "    num_epochs = 30\n",
        "\n",
        "    history = train_model(model_rnn, loss_fct, optimizer, train_loader_rnn, val_loader_rnn, num_epochs=num_epochs,early_exit_patience=5)"
      ]
    },
    {
      "cell_type": "code",
      "execution_count": null,
      "metadata": {
        "colab": {
          "background_save": true
        },
        "id": "Pfab4bnH42hq"
      },
      "outputs": [],
      "source": [
        "if TRAIN and TRAIN_RNN:\n",
        "    plot_full_training_curves(history)"
      ]
    },
    {
      "cell_type": "markdown",
      "metadata": {
        "id": "QZNQDYdBUglr"
      },
      "source": [
        "### 4.2.3 BERT training (NLP town)"
      ]
    },
    {
      "cell_type": "code",
      "execution_count": null,
      "metadata": {
        "colab": {
          "background_save": true
        },
        "id": "lGkweGanrUIl"
      },
      "outputs": [],
      "source": [
        "if TRAIN and TRAIN_BERT:\n",
        "    print(\"Training BERT\")\n",
        "    # Only parameters with requires_grad=True will be optimized\n",
        "    optimizer = optim.Adam(filter(lambda p: p.requires_grad, model_bert.parameters()), lr=1e-5)\n",
        "    loss_fct = nn.CrossEntropyLoss()\n",
        "\n",
        "    num_epochs = 40\n",
        "\n",
        "    history=train_model(model_bert, loss_fct, optimizer, train_loader, val_loader, num_epochs=num_epochs, early_exit_patience=12)"
      ]
    },
    {
      "cell_type": "code",
      "execution_count": null,
      "metadata": {
        "colab": {
          "background_save": true
        },
        "id": "IlA4XL6P41eO"
      },
      "outputs": [],
      "source": [
        "if TRAIN and TRAIN_BERT:\n",
        "    plot_full_training_curves(history)"
      ]
    },
    {
      "cell_type": "markdown",
      "metadata": {
        "id": "0Ps0w3ecUltI"
      },
      "source": [
        "### 4.2.4. DISTILBERT training (5-classes)"
      ]
    },
    {
      "cell_type": "code",
      "execution_count": null,
      "metadata": {
        "colab": {
          "background_save": true
        },
        "id": "h6IKqFWm4dYn"
      },
      "outputs": [],
      "source": [
        "if TRAIN and TRAIN_DISTILBERT:\n",
        "    print(\"Training DistilBert\")\n",
        "    # Only parameters with requires_grad=True will be optimized\n",
        "    optimizer = optim.Adam(filter(lambda p: p.requires_grad, model_distilbert.parameters()), lr=1e-5)\n",
        "    loss_fct = nn.CrossEntropyLoss()\n",
        "\n",
        "    num_epochs = 100\n",
        "\n",
        "    history=train_model(model_distilbert, loss_fct, optimizer, train_loader_distilbert, val_loader_distilbert, num_epochs=num_epochs, early_exit_patience=12)\n"
      ]
    },
    {
      "cell_type": "code",
      "execution_count": null,
      "metadata": {
        "colab": {
          "background_save": true
        },
        "id": "W4bNJMaIMdpI"
      },
      "outputs": [],
      "source": [
        "if TRAIN and TRAIN_DISTILBERT:\n",
        "    plot_full_training_curves(history)"
      ]
    },
    {
      "cell_type": "markdown",
      "metadata": {
        "id": "MA9pjfTDUsuG"
      },
      "source": [
        "### 4.2.5. DISTILBERT training (3-classes)"
      ]
    },
    {
      "cell_type": "code",
      "execution_count": null,
      "metadata": {
        "colab": {
          "background_save": true
        },
        "id": "kZPmzDashFJS"
      },
      "outputs": [],
      "source": [
        "if TRAIN and TRAIN_3CLASS_DISTILBERT:\n",
        "    print(\"Training 3-class DistilBert\")\n",
        "    # Only parameters with requires_grad=True will be optimized\n",
        "    optimizer = optim.Adam(filter(lambda p: p.requires_grad, model_3class_distilbert.parameters()), lr=1e-5)\n",
        "    loss_fct = nn.CrossEntropyLoss()\n",
        "\n",
        "    num_epochs = 100\n",
        "\n",
        "    history=train_model(model_3class_distilbert, loss_fct, optimizer, train_loader_distilbert, val_loader_distilbert, num_epochs=num_epochs, early_exit_patience=12)\n"
      ]
    },
    {
      "cell_type": "code",
      "execution_count": null,
      "metadata": {
        "colab": {
          "background_save": true
        },
        "id": "7wy9aMaThSzg"
      },
      "outputs": [],
      "source": [
        "if TRAIN and TRAIN_3CLASS_DISTILBERT:\n",
        "  plot_full_training_curves(history)"
      ]
    },
    {
      "cell_type": "markdown",
      "metadata": {
        "id": "vCMUk4E5U04R"
      },
      "source": [
        "### 4.2.6. RNN training (6-classes)"
      ]
    },
    {
      "cell_type": "code",
      "execution_count": null,
      "metadata": {
        "colab": {
          "background_save": true
        },
        "id": "hjbrCaNxhctR"
      },
      "outputs": [],
      "source": [
        "if TRAIN and TRAIN_3CLASS_RNN:\n",
        "    print(\"Training 3-class RNN\")\n",
        "    # Only parameters with requires_grad=True will be optimized\n",
        "    optimizer = torch.optim.Adam(model_3class_rnn.parameters(), lr=1e-3)\n",
        "    loss_fct = nn.CrossEntropyLoss()\n",
        "\n",
        "    num_epochs = 30\n",
        "\n",
        "    history = train_model(model_3class_rnn, loss_fct, optimizer, train_loader_rnn, val_loader_rnn, num_epochs=num_epochs,early_exit_patience=None)"
      ]
    },
    {
      "cell_type": "code",
      "execution_count": null,
      "metadata": {
        "colab": {
          "background_save": true
        },
        "id": "PUx6UvIuh6aB"
      },
      "outputs": [],
      "source": [
        "if TRAIN and TRAIN_3CLASS_RNN:\n",
        "  plot_full_training_curves(history)"
      ]
    },
    {
      "cell_type": "markdown",
      "metadata": {
        "id": "hrYkUY-_g1BU"
      },
      "source": [
        "# 5.Model loading and evaluation"
      ]
    },
    {
      "cell_type": "markdown",
      "metadata": {
        "id": "6GJSMB4phAlx"
      },
      "source": [
        "## 5.1. All trained model loading"
      ]
    },
    {
      "cell_type": "code",
      "execution_count": null,
      "metadata": {
        "colab": {
          "background_save": true
        },
        "id": "sQs8cBXF8LNi"
      },
      "outputs": [],
      "source": [
        "evaluation_models_data = {}"
      ]
    },
    {
      "cell_type": "markdown",
      "metadata": {
        "id": "HOeOspFaVQoM"
      },
      "source": [
        "### 5.1.1. Load sampler models"
      ]
    },
    {
      "cell_type": "code",
      "execution_count": null,
      "metadata": {
        "colab": {
          "background_save": true
        },
        "id": "Z1YgxjGXVWMm"
      },
      "outputs": [],
      "source": [
        "if EVAL_MODE and SAMPLER:\n",
        "\n",
        "    model_rnn_sampler = LSTM(\n",
        "        num_emb=tokenizer.vocab_size,\n",
        "        output_size=5,\n",
        "        num_layers=2,\n",
        "        hidden_size=128\n",
        "    )\n",
        "    loadWeights(model_rnn_sampler, RNN_PATH_SAMPLER, \"rnn_sampler.pt\")\n",
        "    model_rnn_sampler.eval()\n",
        "\n",
        "    model_bert_sampler = BertModel(freeze=False)\n",
        "    loadWeights(model_bert_sampler, BERT_PATH_SAMPLER, \"bert_sampler.pt\")\n",
        "    model_bert_sampler.eval()\n",
        "\n",
        "    model_distilbert_sampler = DistilBertModel(num_labels=5)\n",
        "    loadWeights(model_distilbert_sampler, DISTILBERT_PATH_SAMPLER, \"distilbert_sampler.pt\")\n",
        "    model_distilbert_sampler.eval()\n",
        "\n",
        "    evaluation_models_data.update({\n",
        "        \"RNN (sampler)\": (model_rnn_sampler, test_loader_rnn),\n",
        "        \"BERT (sampler)\": (model_bert_sampler, test_loader),\n",
        "        \"DistilBERT (sampler)\": (model_distilbert_sampler, test_loader_distilbert)\n",
        "    })"
      ]
    },
    {
      "cell_type": "markdown",
      "metadata": {
        "id": "cHjZpSfHVWuZ"
      },
      "source": [
        "### 5.1.2. Load fullset models"
      ]
    },
    {
      "cell_type": "code",
      "execution_count": null,
      "metadata": {
        "colab": {
          "background_save": true,
          "referenced_widgets": [
            "042b0c043582480e935d760c13695b06"
          ]
        },
        "id": "0K8PDf-ZVa9f",
        "outputId": "87270e22-3629-4776-896c-7b338d441872"
      },
      "outputs": [
        {
          "name": "stdout",
          "output_type": "stream",
          "text": [
            "Loading weights from https://huggingface.co/AlexaWal2025/LT_FINAL_PROJECT/resolve/main/rnn_fullset_0.5186.pt...\n"
          ]
        },
        {
          "name": "stderr",
          "output_type": "stream",
          "text": [
            "100%|██████████| 52.7M/52.7M [00:00<00:00, 211MB/s]\n"
          ]
        },
        {
          "name": "stdout",
          "output_type": "stream",
          "text": [
            "Weights loaded!\n"
          ]
        },
        {
          "data": {
            "application/vnd.jupyter.widget-view+json": {
              "model_id": "042b0c043582480e935d760c13695b06",
              "version_major": 2,
              "version_minor": 0
            },
            "text/plain": [
              "VBox(children=(HTML(value='<center> <img\\nsrc=https://huggingface.co/front/assets/huggingface_logo-noborder.sv…"
            ]
          },
          "metadata": {},
          "output_type": "display_data"
        },
        {
          "name": "stdout",
          "output_type": "stream",
          "text": [
            "Loading weights from https://huggingface.co/AlexaWal2025/LT_FINAL_PROJECT/resolve/main/bert_fullset_0.5205.pt...\n"
          ]
        },
        {
          "name": "stderr",
          "output_type": "stream",
          "text": [
            "100%|██████████| 639M/639M [00:15<00:00, 42.7MB/s]\n"
          ]
        },
        {
          "name": "stdout",
          "output_type": "stream",
          "text": [
            "Weights loaded!\n"
          ]
        },
        {
          "name": "stderr",
          "output_type": "stream",
          "text": [
            "Some weights of DistilBertForSequenceClassification were not initialized from the model checkpoint at distilbert-base-uncased and are newly initialized: ['classifier.bias', 'classifier.weight', 'pre_classifier.bias', 'pre_classifier.weight']\n",
            "You should probably TRAIN this model on a down-stream task to be able to use it for predictions and inference.\n"
          ]
        },
        {
          "name": "stdout",
          "output_type": "stream",
          "text": [
            "Loading weights from https://huggingface.co/AlexaWal2025/LT_FINAL_PROJECT/resolve/main/distilbert_fullset_0.5572.pt...\n"
          ]
        },
        {
          "name": "stderr",
          "output_type": "stream",
          "text": [
            "100%|██████████| 255M/255M [00:07<00:00, 36.4MB/s]\n"
          ]
        },
        {
          "name": "stdout",
          "output_type": "stream",
          "text": [
            "Weights loaded!\n"
          ]
        }
      ],
      "source": [
        "if EVAL_MODE and FULL_SET and not SAMPLER:\n",
        "\n",
        "    model_rnn_fullset = LSTM(\n",
        "        num_emb=tokenizer.vocab_size,\n",
        "        output_size=5,\n",
        "        num_layers=2,\n",
        "        hidden_size=128\n",
        "    )\n",
        "    loadWeights(model_rnn_fullset, RNN_PATH_FULLSET, \"rnn_fullset.pt\")\n",
        "    model_rnn_fullset.eval()\n",
        "\n",
        "    model_bert_fullset = BertModel(freeze=False)\n",
        "    loadWeights(model_bert_fullset, BERT_PATH_FULLSET, \"bert_fullset.pt\")\n",
        "    model_bert_fullset.eval()\n",
        "\n",
        "    model_distilbert_fullset = DistilBertModel(num_labels=5)\n",
        "    loadWeights(model_distilbert_fullset, DISTILBERT_PATH_FULLSET, \"distilbert_fullset.pt\")\n",
        "    model_distilbert_fullset.eval()\n",
        "\n",
        "    evaluation_models_data.update({\n",
        "        \"RNN (fullset)\": (model_rnn_fullset, test_loader_rnn),\n",
        "        \"BERT (fullset)\": (model_bert_fullset, test_loader),\n",
        "        \"DistilBERT (fullset)\": (model_distilbert_fullset, test_loader_distilbert)\n",
        "    })\n"
      ]
    },
    {
      "cell_type": "markdown",
      "metadata": {
        "id": "WQIJAkWAVbao"
      },
      "source": [
        "### 5.1.3. Load 3-class models"
      ]
    },
    {
      "cell_type": "code",
      "execution_count": null,
      "metadata": {
        "colab": {
          "background_save": true
        },
        "id": "IaCOX9uMVhle"
      },
      "outputs": [],
      "source": [
        "if EVAL_MODE and THREE_CLASS:\n",
        "\n",
        "    model_rnn_3class = LSTM(\n",
        "        num_emb=tokenizer.vocab_size,\n",
        "        output_size=3,\n",
        "        num_layers=2,\n",
        "        hidden_size=128\n",
        "    )\n",
        "    loadWeights(model_rnn_3class, RNN_PATH_THREE_CLASS, \"rnn_3class.pt\")\n",
        "    model_rnn_3class.eval()\n",
        "\n",
        "    # BERT model not usually used for 3-class, but load if path is available\n",
        "    if BERT_PATH_THREE_CLASS is not None:\n",
        "        model_bert_3class = BertModel(freeze=False)\n",
        "        loadWeights(model_bert_3class, BERT_PATH_THREE_CLASS, \"bert_3class.pt\")\n",
        "        model_bert_3class.eval()\n",
        "\n",
        "        evaluation_models_data.update({\n",
        "            \"BERT (3-class)\": (model_bert_3class, test_loader)\n",
        "        })\n",
        "\n",
        "    model_distilbert_3class = DistilBertModel(num_labels=3)\n",
        "    loadWeights(model_distilbert_3class, DISTILBERT_PATH_THREE_CLASS, \"distilbert_3class.pt\")\n",
        "    model_distilbert_3class.eval()\n",
        "\n",
        "    evaluation_models_data.update({\n",
        "        \"RNN (3-class)\": (model_rnn_3class, test_loader_rnn),\n",
        "        \"DistilBERT (3-class)\": (model_distilbert_3class, test_loader_distilbert)\n",
        "    })\n"
      ]
    },
    {
      "cell_type": "markdown",
      "metadata": {
        "id": "qHaqFG6cVh6z"
      },
      "source": [
        "### 5.1.4. Load 25/5/5 models"
      ]
    },
    {
      "cell_type": "code",
      "execution_count": null,
      "metadata": {
        "colab": {
          "background_save": true
        },
        "id": "VPdK08B2Yqq1"
      },
      "outputs": [],
      "source": [
        "if EVAL_MODE and SET_25:\n",
        "\n",
        "    model_rnn_25set = LSTM(\n",
        "        num_emb=tokenizer.vocab_size,\n",
        "        output_size=5,\n",
        "        num_layers=2,\n",
        "        hidden_size=128\n",
        "    )\n",
        "    loadWeights(model_rnn_25set, RNN_PATH_SET_25, \"rnn_25set.pt\")\n",
        "    model_rnn_25set.eval()\n",
        "\n",
        "    model_bert_25set = BertModel(freeze=False)\n",
        "    loadWeights(model_bert_25set, BERT_PATH_SET_25, \"bert_25set.pt\")\n",
        "    model_bert_25set.eval()\n",
        "\n",
        "    model_distilbert_25set = DistilBertModel(num_labels=5)\n",
        "    loadWeights(model_distilbert_25set, DISTILBERT_PATH_SET_25, \"distilbert_25set.pt\")\n",
        "    model_distilbert_25set.eval()\n",
        "\n",
        "    evaluation_models_data.update({\n",
        "        \"RNN (25/5/5)\": (model_rnn_25set, test_loader_rnn),\n",
        "        \"BERT (25/5/5)\": (model_bert_25set, test_loader),\n",
        "        \"DistilBERT (25/5/5)\": (model_distilbert_25set, test_loader_distilbert)\n",
        "    })\n"
      ]
    },
    {
      "cell_type": "markdown",
      "metadata": {
        "id": "VociXmwpZiUz"
      },
      "source": [
        "### 5.1.5. Load baseline bert (nlp-town) model"
      ]
    },
    {
      "cell_type": "code",
      "execution_count": null,
      "metadata": {
        "colab": {
          "background_save": true,
          "referenced_widgets": [
            "84c504948260406e9382767448c26709"
          ]
        },
        "id": "qAIu7N--CRoM",
        "outputId": "431c3a25-196b-457e-a859-58fe2b81cbb7"
      },
      "outputs": [
        {
          "data": {
            "application/vnd.jupyter.widget-view+json": {
              "model_id": "84c504948260406e9382767448c26709",
              "version_major": 2,
              "version_minor": 0
            },
            "text/plain": [
              "VBox(children=(HTML(value='<center> <img\\nsrc=https://huggingface.co/front/assets/huggingface_logo-noborder.sv…"
            ]
          },
          "metadata": {},
          "output_type": "display_data"
        }
      ],
      "source": [
        "# Baseline model\n",
        "if not THREE_CLASS:\n",
        "    base_bert_model = BertModel(freeze=False)\n",
        "    base_bert_model.eval()\n",
        "\n",
        "    evaluation_models_data.update({\n",
        "        \"Base NLP Town BERT\": (base_bert_model, test_loader)\n",
        "    })"
      ]
    },
    {
      "cell_type": "markdown",
      "metadata": {
        "id": "icox5bjPI8Zh"
      },
      "source": [
        "## 5.2. Model evaluation"
      ]
    },
    {
      "cell_type": "code",
      "execution_count": null,
      "metadata": {
        "colab": {
          "background_save": true
        },
        "id": "x9ALhfH61KwM",
        "outputId": "4a531953-e04c-4133-bec3-8e2eda5bd7f5"
      },
      "outputs": [
        {
          "name": "stdout",
          "output_type": "stream",
          "text": [
            "Evaluating RNN (fullset)\n",
            "Device: cuda\n"
          ]
        },
        {
          "name": "stderr",
          "output_type": "stream",
          "text": [
            "Testing: 100%|██████████| 423/423 [00:01<00:00, 269.88it/s]\n"
          ]
        },
        {
          "name": "stdout",
          "output_type": "stream",
          "text": [
            "Evaluating BERT (fullset)\n",
            "Device: cuda\n"
          ]
        },
        {
          "name": "stderr",
          "output_type": "stream",
          "text": [
            "Testing: 100%|██████████| 423/423 [01:22<00:00,  5.15it/s]\n"
          ]
        },
        {
          "name": "stdout",
          "output_type": "stream",
          "text": [
            "Evaluating DistilBERT (fullset)\n",
            "Device: cuda\n"
          ]
        },
        {
          "name": "stderr",
          "output_type": "stream",
          "text": [
            "Testing: 100%|██████████| 423/423 [00:46<00:00,  9.14it/s]\n"
          ]
        },
        {
          "name": "stdout",
          "output_type": "stream",
          "text": [
            "Evaluating Base NLP Town BERT\n",
            "Device: cuda\n"
          ]
        },
        {
          "name": "stderr",
          "output_type": "stream",
          "text": [
            "Testing: 100%|██████████| 423/423 [01:30<00:00,  4.68it/s]\n"
          ]
        }
      ],
      "source": [
        "# Run the models on test dataset\n",
        "if EVAL_MODE:\n",
        "    if THREE_CLASS:\n",
        "        texts = test_dataset_distilbert.raw_texts\n",
        "        true_labels = test_dataset_distilbert.labels\n",
        "    else:\n",
        "        texts = test_dataset.raw_texts\n",
        "        true_labels = test_dataset.labels\n",
        "\n",
        "    evaluation_model_predictions = {}\n",
        "    # Test models\n",
        "    for model_name, (model, test_loader) in evaluation_models_data.items():\n",
        "        print(f\"Evaluating {model_name}\")\n",
        "        preds = test(model, test_loader)\n",
        "        evaluation_model_predictions[model_name] = preds\n"
      ]
    },
    {
      "cell_type": "markdown",
      "metadata": {
        "id": "8anZNsDHhbfH"
      },
      "source": [
        "### 5.2.1. Metrics comparison"
      ]
    },
    {
      "cell_type": "code",
      "execution_count": null,
      "metadata": {
        "colab": {
          "background_save": true
        },
        "id": "cRigC53Jhl09",
        "outputId": "7798dace-0a49-40a3-eb14-90283663f42a"
      },
      "outputs": [
        {
          "data": {
            "text/html": [
              "<style type=\"text/css\">\n",
              "</style>\n",
              "<table id=\"T_98f68\" class=\"dataframe\">\n",
              "  <thead>\n",
              "    <tr>\n",
              "      <th class=\"blank level0\" >&nbsp;</th>\n",
              "      <th id=\"T_98f68_level0_col0\" class=\"col_heading level0 col0\" >Accuracy</th>\n",
              "      <th id=\"T_98f68_level0_col1\" class=\"col_heading level0 col1\" >Off-by-1 accuracy</th>\n",
              "      <th id=\"T_98f68_level0_col2\" class=\"col_heading level0 col2\" >Macro Precision</th>\n",
              "      <th id=\"T_98f68_level0_col3\" class=\"col_heading level0 col3\" >Macro Recall</th>\n",
              "      <th id=\"T_98f68_level0_col4\" class=\"col_heading level0 col4\" >Macro F1-score</th>\n",
              "      <th id=\"T_98f68_level0_col5\" class=\"col_heading level0 col5\" >Weighted Precision</th>\n",
              "      <th id=\"T_98f68_level0_col6\" class=\"col_heading level0 col6\" >Weighted Recall</th>\n",
              "      <th id=\"T_98f68_level0_col7\" class=\"col_heading level0 col7\" >Weighted F1-score</th>\n",
              "    </tr>\n",
              "    <tr>\n",
              "      <th class=\"index_name level0\" >Model</th>\n",
              "      <th class=\"blank col0\" >&nbsp;</th>\n",
              "      <th class=\"blank col1\" >&nbsp;</th>\n",
              "      <th class=\"blank col2\" >&nbsp;</th>\n",
              "      <th class=\"blank col3\" >&nbsp;</th>\n",
              "      <th class=\"blank col4\" >&nbsp;</th>\n",
              "      <th class=\"blank col5\" >&nbsp;</th>\n",
              "      <th class=\"blank col6\" >&nbsp;</th>\n",
              "      <th class=\"blank col7\" >&nbsp;</th>\n",
              "    </tr>\n",
              "  </thead>\n",
              "  <tbody>\n",
              "    <tr>\n",
              "      <th id=\"T_98f68_level0_row0\" class=\"row_heading level0 row0\" >RNN (fullset)</th>\n",
              "      <td id=\"T_98f68_row0_col0\" class=\"data row0 col0\" >0.700</td>\n",
              "      <td id=\"T_98f68_row0_col1\" class=\"data row0 col1\" >0.921</td>\n",
              "      <td id=\"T_98f68_row0_col2\" class=\"data row0 col2\" >0.521</td>\n",
              "      <td id=\"T_98f68_row0_col3\" class=\"data row0 col3\" >0.512</td>\n",
              "      <td id=\"T_98f68_row0_col4\" class=\"data row0 col4\" >0.511</td>\n",
              "      <td id=\"T_98f68_row0_col5\" class=\"data row0 col5\" >0.677</td>\n",
              "      <td id=\"T_98f68_row0_col6\" class=\"data row0 col6\" >0.700</td>\n",
              "      <td id=\"T_98f68_row0_col7\" class=\"data row0 col7\" >0.684</td>\n",
              "    </tr>\n",
              "    <tr>\n",
              "      <th id=\"T_98f68_level0_row1\" class=\"row_heading level0 row1\" >BERT (fullset)</th>\n",
              "      <td id=\"T_98f68_row1_col0\" class=\"data row1 col0\" >0.692</td>\n",
              "      <td id=\"T_98f68_row1_col1\" class=\"data row1 col1\" >0.926</td>\n",
              "      <td id=\"T_98f68_row1_col2\" class=\"data row1 col2\" >0.542</td>\n",
              "      <td id=\"T_98f68_row1_col3\" class=\"data row1 col3\" >0.519</td>\n",
              "      <td id=\"T_98f68_row1_col4\" class=\"data row1 col4\" >0.523</td>\n",
              "      <td id=\"T_98f68_row1_col5\" class=\"data row1 col5\" >0.684</td>\n",
              "      <td id=\"T_98f68_row1_col6\" class=\"data row1 col6\" >0.692</td>\n",
              "      <td id=\"T_98f68_row1_col7\" class=\"data row1 col7\" >0.685</td>\n",
              "    </tr>\n",
              "    <tr>\n",
              "      <th id=\"T_98f68_level0_row2\" class=\"row_heading level0 row2\" >DistilBERT (fullset)</th>\n",
              "      <td id=\"T_98f68_row2_col0\" class=\"data row2 col0\" >0.726</td>\n",
              "      <td id=\"T_98f68_row2_col1\" class=\"data row2 col1\" >0.944</td>\n",
              "      <td id=\"T_98f68_row2_col2\" class=\"data row2 col2\" >0.570</td>\n",
              "      <td id=\"T_98f68_row2_col3\" class=\"data row2 col3\" >0.550</td>\n",
              "      <td id=\"T_98f68_row2_col4\" class=\"data row2 col4\" >0.557</td>\n",
              "      <td id=\"T_98f68_row2_col5\" class=\"data row2 col5\" >0.712</td>\n",
              "      <td id=\"T_98f68_row2_col6\" class=\"data row2 col6\" >0.726</td>\n",
              "      <td id=\"T_98f68_row2_col7\" class=\"data row2 col7\" >0.717</td>\n",
              "    </tr>\n",
              "    <tr>\n",
              "      <th id=\"T_98f68_level0_row3\" class=\"row_heading level0 row3\" >Base NLP Town BERT</th>\n",
              "      <td id=\"T_98f68_row3_col0\" class=\"data row3 col0\" >0.636</td>\n",
              "      <td id=\"T_98f68_row3_col1\" class=\"data row3 col1\" >0.911</td>\n",
              "      <td id=\"T_98f68_row3_col2\" class=\"data row3 col2\" >0.503</td>\n",
              "      <td id=\"T_98f68_row3_col3\" class=\"data row3 col3\" >0.537</td>\n",
              "      <td id=\"T_98f68_row3_col4\" class=\"data row3 col4\" >0.515</td>\n",
              "      <td id=\"T_98f68_row3_col5\" class=\"data row3 col5\" >0.679</td>\n",
              "      <td id=\"T_98f68_row3_col6\" class=\"data row3 col6\" >0.636</td>\n",
              "      <td id=\"T_98f68_row3_col7\" class=\"data row3 col7\" >0.653</td>\n",
              "    </tr>\n",
              "  </tbody>\n",
              "</table>\n"
            ],
            "text/plain": [
              "<pandas.io.formats.style.Styler at 0x7b2d2598dc10>"
            ]
          },
          "metadata": {},
          "output_type": "display_data"
        }
      ],
      "source": [
        "if EVAL_MODE:\n",
        "    metrics_comp_df = compare_metrics(true_labels, evaluation_model_predictions)\n",
        "    display(metrics_comp_df.style.format(\"{:.3f}\"))"
      ]
    },
    {
      "cell_type": "code",
      "execution_count": null,
      "metadata": {
        "colab": {
          "background_save": true
        },
        "id": "zVMmE6qnBQRo",
        "outputId": "44bb6a6e-5051-484e-d743-6a1f1c453d35"
      },
      "outputs": [
        {
          "name": "stdout",
          "output_type": "stream",
          "text": [
            "RNN (fullset) classification report\n",
            "              precision    recall  f1-score   support\n",
            "\n",
            "           0       0.74      0.81      0.77      2140\n",
            "           1       0.28      0.22      0.25       719\n",
            "           2       0.33      0.37      0.35      1127\n",
            "           3       0.43      0.27      0.33      2162\n",
            "           4       0.82      0.89      0.86      7381\n",
            "\n",
            "    accuracy                           0.70     13529\n",
            "   macro avg       0.52      0.51      0.51     13529\n",
            "weighted avg       0.68      0.70      0.68     13529\n",
            "\n",
            "BERT (fullset) classification report\n",
            "              precision    recall  f1-score   support\n",
            "\n",
            "           0       0.76      0.78      0.77      2140\n",
            "           1       0.34      0.28      0.31       719\n",
            "           2       0.38      0.19      0.26      1127\n",
            "           3       0.41      0.49      0.45      2162\n",
            "           4       0.82      0.84      0.83      7381\n",
            "\n",
            "    accuracy                           0.69     13529\n",
            "   macro avg       0.54      0.52      0.52     13529\n",
            "weighted avg       0.68      0.69      0.68     13529\n",
            "\n",
            "DistilBERT (fullset) classification report\n",
            "              precision    recall  f1-score   support\n",
            "\n",
            "           0       0.79      0.82      0.80      2140\n",
            "           1       0.36      0.24      0.29       719\n",
            "           2       0.40      0.38      0.39      1127\n",
            "           3       0.45      0.42      0.44      2162\n",
            "           4       0.85      0.89      0.87      7381\n",
            "\n",
            "    accuracy                           0.73     13529\n",
            "   macro avg       0.57      0.55      0.56     13529\n",
            "weighted avg       0.71      0.73      0.72     13529\n",
            "\n",
            "Base NLP Town BERT classification report\n",
            "              precision    recall  f1-score   support\n",
            "\n",
            "           0       0.72      0.76      0.74      2140\n",
            "           1       0.27      0.41      0.32       719\n",
            "           2       0.32      0.37      0.34      1127\n",
            "           3       0.34      0.42      0.38      2162\n",
            "           4       0.86      0.73      0.79      7381\n",
            "\n",
            "    accuracy                           0.64     13529\n",
            "   macro avg       0.50      0.54      0.52     13529\n",
            "weighted avg       0.68      0.64      0.65     13529\n",
            "\n"
          ]
        }
      ],
      "source": [
        "for model_name, preds in evaluation_model_predictions.items():\n",
        "    print(f\"{model_name} classification report\")\n",
        "    print(classification_report(true_labels, preds))"
      ]
    },
    {
      "cell_type": "markdown",
      "metadata": {
        "id": "HenSc-MSPlz8"
      },
      "source": [
        "### 5.2.2. Confusion matrix"
      ]
    },
    {
      "cell_type": "code",
      "execution_count": null,
      "metadata": {
        "colab": {
          "background_save": true
        },
        "id": "nJ6YHI9jP6bi",
        "outputId": "ee516e79-c345-4926-bf41-4f77a8b31bbc"
      },
      "outputs": [
        {
          "name": "stdout",
          "output_type": "stream",
          "text": [
            "RNN (fullset) confusion matrix\n"
          ]
        },
        {
          "data": {
            "image/png": "[encoded data removed]",
            "text/plain": [
              "<Figure size 640x480 with 2 Axes>"
            ]
          },
          "metadata": {},
          "output_type": "display_data"
        },
        {
          "name": "stdout",
          "output_type": "stream",
          "text": [
            "BERT (fullset) confusion matrix\n"
          ]
        },
        {
          "data": {
            "image/png": "[encoded data removed]",
            "text/plain": [
              "<Figure size 640x480 with 2 Axes>"
            ]
          },
          "metadata": {},
          "output_type": "display_data"
        },
        {
          "name": "stdout",
          "output_type": "stream",
          "text": [
            "DistilBERT (fullset) confusion matrix\n"
          ]
        },
        {
          "data": {
            "image/png": "[encoded data removed]",
            "text/plain": [
              "<Figure size 640x480 with 2 Axes>"
            ]
          },
          "metadata": {},
          "output_type": "display_data"
        },
        {
          "name": "stdout",
          "output_type": "stream",
          "text": [
            "Base NLP Town BERT confusion matrix\n"
          ]
        },
        {
          "data": {
            "image/png": "[encoded data removed]",
            "text/plain": [
              "<Figure size 640x480 with 2 Axes>"
            ]
          },
          "metadata": {},
          "output_type": "display_data"
        }
      ],
      "source": [
        "if EVAL_MODE:\n",
        "    for model_name, preds in evaluation_model_predictions.items():\n",
        "        print(f\"{model_name} confusion matrix\")\n",
        "        plot_confusion_matrix(true_labels, preds, model_name)"
      ]
    },
    {
      "cell_type": "markdown",
      "metadata": {
        "id": "UYt4ZQm5JyqC"
      },
      "source": [
        "## 5.3. Random selection test"
      ]
    },
    {
      "cell_type": "code",
      "execution_count": null,
      "metadata": {
        "colab": {
          "background_save": true
        },
        "id": "FQHjhNlOItkF",
        "outputId": "20f74dc2-0550-4f0a-fb4c-7fc4404db39d"
      },
      "outputs": [
        {
          "name": "stdout",
          "output_type": "stream",
          "text": [
            "====================================================================================================\n",
            "Example 8466\n",
            "----------------------------------------------------------------------------------------------------\n",
            "Text: Expensive! After reading the reviews on google decided not to order further. 2 espresso for $9.36!\n",
            "True Label: 0\n",
            "Correct Predictions: RNN (fullset), BERT (fullset), DistilBERT (fullset), Base NLP Town BERT\n",
            "Model Predictions:\n",
            "RNN (fullset): 0 ✅\n",
            "BERT (fullset): 0 ✅\n",
            "DistilBERT (fullset): 0 ✅\n",
            "Base NLP Town BERT: 0 ✅\n",
            "====================================================================================================\n",
            "Example 4281\n",
            "----------------------------------------------------------------------------------------------------\n",
            "Text: A wonderful place to visit, very clean and organized. I love it\n",
            "True Label: 4\n",
            "Correct Predictions: RNN (fullset), BERT (fullset), DistilBERT (fullset), Base NLP Town BERT\n",
            "Model Predictions:\n",
            "RNN (fullset): 4 ✅\n",
            "BERT (fullset): 4 ✅\n",
            "DistilBERT (fullset): 4 ✅\n",
            "Base NLP Town BERT: 4 ✅\n",
            "====================================================================================================\n",
            "Example 7168\n",
            "----------------------------------------------------------------------------------------------------\n",
            "Text: Very efficient\n",
            "True Label: 4\n",
            "Correct Predictions: RNN (fullset), BERT (fullset), DistilBERT (fullset), Base NLP Town BERT\n",
            "Model Predictions:\n",
            "RNN (fullset): 4 ✅\n",
            "BERT (fullset): 4 ✅\n",
            "DistilBERT (fullset): 4 ✅\n",
            "Base NLP Town BERT: 4 ✅\n",
            "====================================================================================================\n",
            "Example 4894\n",
            "----------------------------------------------------------------------------------------------------\n",
            "Text: What a joke this place was, me and my partner were spending our last night in Italy after 3 weeks of traveling here and we loved it all apart from this place! They were very pushy from the start, the waiter told us the menu wasn’t in English which was a lie, he then was recommending food to us which we stupidly listened too because we have trusted all other Italians since being here as they have been very helpful. He was talking very fast but we trusted him, then our food came out and we had so many plates of things we didn’t know we were getting, the food was very average and there was no one way we could finish it. At the end we got our bill and it was €179 and we were speechless, they demanded cash but we didn’t have any and then they demanded a tip which I kindly declined. Do not come here, it was unfortunate we spent our last night here like this but we hope these people don’t do this to anyone else.\n",
            "True Label: 0\n",
            "Correct Predictions: RNN (fullset), BERT (fullset), DistilBERT (fullset), Base NLP Town BERT\n",
            "Model Predictions:\n",
            "RNN (fullset): 0 ✅\n",
            "BERT (fullset): 0 ✅\n",
            "DistilBERT (fullset): 0 ✅\n",
            "Base NLP Town BERT: 0 ✅\n",
            "====================================================================================================\n",
            "Example 2623\n",
            "----------------------------------------------------------------------------------------------------\n",
            "Text: Location was the major selling point for us, it's just a few blocks walk from Times Square and other major attractions. The rooms are definitely dated and could use both modernization and some finessing. Fair for the price, just about.\n",
            "True Label: 2\n",
            "Correct Predictions: RNN (fullset), DistilBERT (fullset), Base NLP Town BERT\n",
            "Model Predictions:\n",
            "RNN (fullset): 2 ✅\n",
            "BERT (fullset): 3 ❌\n",
            "DistilBERT (fullset): 2 ✅\n",
            "Base NLP Town BERT: 2 ✅\n",
            "====================================================================================================\n"
          ]
        }
      ],
      "source": [
        "if EVAL_MODE:\n",
        "    indices = select_filtered_examples(true_labels, evaluation_model_predictions, filter_type=\"none\", num_examples=5)\n",
        "    show_comparison_examples(texts, true_labels, evaluation_model_predictions, indices)"
      ]
    },
    {
      "cell_type": "markdown",
      "metadata": {
        "id": "Fymzsvfmaysr"
      },
      "source": [
        "### 5.3.1. What all models predicted correctly"
      ]
    },
    {
      "cell_type": "code",
      "execution_count": null,
      "metadata": {
        "colab": {
          "background_save": true
        },
        "id": "XFIcoycbayss",
        "outputId": "af27f1c9-becd-4b89-fbf0-452e98c3d78a"
      },
      "outputs": [
        {
          "name": "stdout",
          "output_type": "stream",
          "text": [
            "====================================================================================================\n",
            "Example 9985\n",
            "----------------------------------------------------------------------------------------------------\n",
            "Text: Lots of stores. Parking is horrible. You just have to stalk people leaving the building in your car and it gets awkward. We only go if we have to, like most Edmontonians. Great for out of town guests. Free the seals! There's also a chick fil a now, it's fine.\n",
            "True Label: 3\n",
            "Correct Predictions: RNN (fullset), BERT (fullset), DistilBERT (fullset), Base NLP Town BERT\n",
            "Model Predictions:\n",
            "RNN (fullset): 3 ✅\n",
            "BERT (fullset): 3 ✅\n",
            "DistilBERT (fullset): 3 ✅\n",
            "Base NLP Town BERT: 3 ✅\n",
            "====================================================================================================\n",
            "Example 13010\n",
            "----------------------------------------------------------------------------------------------------\n",
            "Text: Impressive building but the dirt and dodgy traders and ridiculous tourist rip-offs just spoil it. Better to take photos from further away and enjoy it without all the hassle you get up close. And don’t even consider the Trocadero…while it’s a good photo shot, it’s just as crowded and dirty and loads of people trying to extract money from you. Same at all the Paris attractions I’m afraid and overall a very disappointing city. Dirty, tacky and generally not welcoming. There are, of course, exceptions and some very nice ones but you have to really seek them out and ignore all the rubbish everywhere else. Shame really as it should be trying to live up to its historical hype but seems to have given up and neglected its capital city.\n",
            "True Label: 1\n",
            "Correct Predictions: RNN (fullset), BERT (fullset), DistilBERT (fullset), Base NLP Town BERT\n",
            "Model Predictions:\n",
            "RNN (fullset): 1 ✅\n",
            "BERT (fullset): 1 ✅\n",
            "DistilBERT (fullset): 1 ✅\n",
            "Base NLP Town BERT: 1 ✅\n",
            "====================================================================================================\n",
            "Example 4961\n",
            "----------------------------------------------------------------------------------------------------\n",
            "Text: Amazing destination for those who just visited Toronto or those who are visiting again to appreciate memories formed in the big pumpkin. If you have the time, I recommend you take the tour as well\n",
            "True Label: 4\n",
            "Correct Predictions: RNN (fullset), BERT (fullset), DistilBERT (fullset), Base NLP Town BERT\n",
            "Model Predictions:\n",
            "RNN (fullset): 4 ✅\n",
            "BERT (fullset): 4 ✅\n",
            "DistilBERT (fullset): 4 ✅\n",
            "Base NLP Town BERT: 4 ✅\n",
            "====================================================================================================\n",
            "Example 11746\n",
            "----------------------------------------------------------------------------------------------------\n",
            "Text: Has everything uou need\n",
            "True Label: 4\n",
            "Correct Predictions: RNN (fullset), BERT (fullset), DistilBERT (fullset), Base NLP Town BERT\n",
            "Model Predictions:\n",
            "RNN (fullset): 4 ✅\n",
            "BERT (fullset): 4 ✅\n",
            "DistilBERT (fullset): 4 ✅\n",
            "Base NLP Town BERT: 4 ✅\n",
            "====================================================================================================\n",
            "Example 6824\n",
            "----------------------------------------------------------------------------------------------------\n",
            "Text: I LOVE YOU\n",
            "True Label: 4\n",
            "Correct Predictions: RNN (fullset), BERT (fullset), DistilBERT (fullset), Base NLP Town BERT\n",
            "Model Predictions:\n",
            "RNN (fullset): 4 ✅\n",
            "BERT (fullset): 4 ✅\n",
            "DistilBERT (fullset): 4 ✅\n",
            "Base NLP Town BERT: 4 ✅\n",
            "====================================================================================================\n"
          ]
        }
      ],
      "source": [
        "if EVAL_MODE:\n",
        "    indices = select_filtered_examples(true_labels, evaluation_model_predictions, filter_type=\"tp\", num_examples=5)\n",
        "    show_comparison_examples(texts, true_labels, evaluation_model_predictions, indices)"
      ]
    },
    {
      "cell_type": "markdown",
      "metadata": {
        "id": "5XqHRbIWbQl2"
      },
      "source": [
        "### 5.3.2. What models disagree on"
      ]
    },
    {
      "cell_type": "code",
      "execution_count": null,
      "metadata": {
        "colab": {
          "background_save": true
        },
        "id": "joeStn-mbQl6",
        "outputId": "e6b015e2-d51c-4daa-e00b-be9160282170"
      },
      "outputs": [
        {
          "name": "stdout",
          "output_type": "stream",
          "text": [
            "====================================================================================================\n",
            "Example 6078\n",
            "----------------------------------------------------------------------------------------------------\n",
            "Text: There are so many cheap flights from this airport. But airport is always busy specially in school holidays, so make sure you have enough time to catch your flight. Down side is the dirty toilets, not even single time we found clean toilets.\n",
            "True Label: 2\n",
            "Correct Predictions: RNN (fullset), DistilBERT (fullset), Base NLP Town BERT\n",
            "Model Predictions:\n",
            "RNN (fullset): 2 ✅\n",
            "BERT (fullset): 3 ❌\n",
            "DistilBERT (fullset): 2 ✅\n",
            "Base NLP Town BERT: 2 ✅\n",
            "====================================================================================================\n",
            "Example 11136\n",
            "----------------------------------------------------------------------------------------------------\n",
            "Text: Decent sized room. Housekeeping/cleaning service was not good, had to call multiple times to get rooms cleaned/bring up more blankets and still neither ended up happening. Managerial positions were unapologetic. \"Resort fee\" of $22 per night is silly considering the hotel is so old. Having two bathrooms in the suite was a plus.\n",
            "True Label: 2\n",
            "Correct Predictions: RNN (fullset), DistilBERT (fullset), Base NLP Town BERT\n",
            "Model Predictions:\n",
            "RNN (fullset): 2 ✅\n",
            "BERT (fullset): 1 ❌\n",
            "DistilBERT (fullset): 2 ✅\n",
            "Base NLP Town BERT: 2 ✅\n",
            "====================================================================================================\n",
            "Example 3399\n",
            "----------------------------------------------------------------------------------------------------\n",
            "Text: A must see in Paris but be prepared to spend a lot of time exploring. If you don’t want to wait in long lines, I would recommend booking through the Get Your Guide App. It’s worth the extra cost and you’ll have a guide to get you there and walk you through the highlights. We went on a Monday and it was crazy busy. I imagine weekends are even more crowded.\n",
            "True Label: 4\n",
            "Correct Predictions: RNN (fullset), DistilBERT (fullset)\n",
            "Model Predictions:\n",
            "RNN (fullset): 4 ✅\n",
            "BERT (fullset): 3 ❌\n",
            "DistilBERT (fullset): 4 ✅\n",
            "Base NLP Town BERT: 3 ❌\n",
            "====================================================================================================\n",
            "Example 9633\n",
            "----------------------------------------------------------------------------------------------------\n",
            "Text: After having stayed here in 2014 we went back with friends for morning coffee. We wete told the bar was closed! The public areas are amazing but service always seemed a bit lacking in the charm department.\n",
            "True Label: 3\n",
            "Correct Predictions: BERT (fullset), DistilBERT (fullset)\n",
            "Model Predictions:\n",
            "RNN (fullset): 1 ❌\n",
            "BERT (fullset): 3 ✅\n",
            "DistilBERT (fullset): 3 ✅\n",
            "Base NLP Town BERT: 1 ❌\n",
            "====================================================================================================\n",
            "Example 12682\n",
            "----------------------------------------------------------------------------------------------------\n",
            "Text: Overrated. Only half of the building is left standing. Asked back for half the entry ticket. Didn’t get it. Was told it is way passed the expiry date.\n",
            "True Label: 0\n",
            "Correct Predictions: RNN (fullset), BERT (fullset), Base NLP Town BERT\n",
            "Model Predictions:\n",
            "RNN (fullset): 0 ✅\n",
            "BERT (fullset): 0 ✅\n",
            "DistilBERT (fullset): 1 ❌\n",
            "Base NLP Town BERT: 0 ✅\n",
            "====================================================================================================\n"
          ]
        }
      ],
      "source": [
        "if EVAL_MODE:\n",
        "    indices = select_filtered_examples(true_labels, evaluation_model_predictions, filter_type=\"disagree\", num_examples=5)\n",
        "    show_comparison_examples(texts, true_labels, evaluation_model_predictions, indices)"
      ]
    },
    {
      "cell_type": "markdown",
      "metadata": {
        "id": "jDZ2aOkBJQBz"
      },
      "source": [
        "### 5.3.3 False positive results random selection"
      ]
    },
    {
      "cell_type": "code",
      "execution_count": null,
      "metadata": {
        "colab": {
          "background_save": true
        },
        "id": "haBhBpvgVNnj",
        "outputId": "327177a0-c61b-4e1c-83c4-a5e8bf649bdf"
      },
      "outputs": [
        {
          "name": "stdout",
          "output_type": "stream",
          "text": [
            "====================================================================================================\n",
            "Example 12125\n",
            "----------------------------------------------------------------------------------------------------\n",
            "Text: Not much of shops but it has all of what you want\n",
            "True Label: 2\n",
            "Correct Predictions: Base NLP Town BERT\n",
            "Model Predictions:\n",
            "RNN (fullset): 3 ❌\n",
            "BERT (fullset): 4 ❌\n",
            "DistilBERT (fullset): 3 ❌\n",
            "Base NLP Town BERT: 2 ✅\n",
            "====================================================================================================\n",
            "Example 9496\n",
            "----------------------------------------------------------------------------------------------------\n",
            "Text: Huge b&q store with a great range of items. They have a trade point for registered builders and recently I noticed they have an area to hire tools.\n",
            "True Label: 4\n",
            "Correct Predictions: DistilBERT (fullset), Base NLP Town BERT\n",
            "Model Predictions:\n",
            "RNN (fullset): 3 ❌\n",
            "BERT (fullset): 3 ❌\n",
            "DistilBERT (fullset): 4 ✅\n",
            "Base NLP Town BERT: 4 ✅\n",
            "====================================================================================================\n",
            "Example 1386\n",
            "----------------------------------------------------------------------------------------------------\n",
            "Text: Tiny small, but nice, few stores, Mcdonalds, enough\n",
            "True Label: 4\n",
            "Correct Predictions: None\n",
            "Model Predictions:\n",
            "RNN (fullset): 3 ❌\n",
            "BERT (fullset): 3 ❌\n",
            "DistilBERT (fullset): 2 ❌\n",
            "Base NLP Town BERT: 3 ❌\n",
            "====================================================================================================\n",
            "Example 9009\n",
            "----------------------------------------------------------------------------------------------------\n",
            "Text: Terrible slow if you taking Uber, the waiting queue will test your patience.\n",
            "True Label: 1\n",
            "Correct Predictions: None\n",
            "Model Predictions:\n",
            "RNN (fullset): 0 ❌\n",
            "BERT (fullset): 0 ❌\n",
            "DistilBERT (fullset): 0 ❌\n",
            "Base NLP Town BERT: 0 ❌\n",
            "====================================================================================================\n",
            "Example 5236\n",
            "----------------------------------------------------------------------------------------------------\n",
            "Text: Quick and easy, not strict at all\n",
            "True Label: 3\n",
            "Correct Predictions: BERT (fullset), Base NLP Town BERT\n",
            "Model Predictions:\n",
            "RNN (fullset): 4 ❌\n",
            "BERT (fullset): 3 ✅\n",
            "DistilBERT (fullset): 4 ❌\n",
            "Base NLP Town BERT: 3 ✅\n",
            "====================================================================================================\n"
          ]
        }
      ],
      "source": [
        "indices = select_filtered_examples(true_labels, evaluation_model_predictions, filter_type=\"fp_main\", num_examples=5) # main is first model in evaluation_model_predictions\n",
        "show_comparison_examples(texts, true_labels, evaluation_model_predictions, indices)"
      ]
    },
    {
      "cell_type": "markdown",
      "metadata": {
        "id": "9AUnencuaghe"
      },
      "source": [
        "### 5.3.4. What no model could predict correctly"
      ]
    },
    {
      "cell_type": "code",
      "execution_count": null,
      "metadata": {
        "colab": {
          "background_save": true
        },
        "id": "uibFuuDNafkU",
        "outputId": "f57e1578-79ea-4774-d59a-ba87c041e8b1"
      },
      "outputs": [
        {
          "name": "stdout",
          "output_type": "stream",
          "text": [
            "====================================================================================================\n",
            "Example 1253\n",
            "----------------------------------------------------------------------------------------------------\n",
            "Text: I would say it's looking awesome but the looks are changed now because they maintained it in that manner.\n",
            "True Label: 3\n",
            "Correct Predictions: BERT (fullset), DistilBERT (fullset)\n",
            "Model Predictions:\n",
            "RNN (fullset): 2 ❌\n",
            "BERT (fullset): 3 ✅\n",
            "DistilBERT (fullset): 3 ✅\n",
            "Base NLP Town BERT: 2 ❌\n",
            "====================================================================================================\n",
            "Example 10281\n",
            "----------------------------------------------------------------------------------------------------\n",
            "Text: Dropped off at T5, there were plenty of trollies available, as well as quite a bit of police presence. As we dropped off there's a £5 charge to do so, I personally think it's ludicrous this can be charged.\n",
            "True Label: 3\n",
            "Correct Predictions: None\n",
            "Model Predictions:\n",
            "RNN (fullset): 2 ❌\n",
            "BERT (fullset): 4 ❌\n",
            "DistilBERT (fullset): 2 ❌\n",
            "Base NLP Town BERT: 1 ❌\n",
            "====================================================================================================\n",
            "Example 12705\n",
            "----------------------------------------------------------------------------------------------------\n",
            "Text: OMG security was such a bad experience. Completely unorganised, no clear process. Clearly overwhelmed. Lack of space and old technology made it take forever.\n",
            "True Label: 1\n",
            "Correct Predictions: None\n",
            "Model Predictions:\n",
            "RNN (fullset): 0 ❌\n",
            "BERT (fullset): 0 ❌\n",
            "DistilBERT (fullset): 0 ❌\n",
            "Base NLP Town BERT: 0 ❌\n",
            "====================================================================================================\n",
            "Example 928\n",
            "----------------------------------------------------------------------------------------------------\n",
            "Text: Nice hotel, good location, quite central !\n",
            "True Label: 3\n",
            "Correct Predictions: BERT (fullset), DistilBERT (fullset), Base NLP Town BERT\n",
            "Model Predictions:\n",
            "RNN (fullset): 4 ❌\n",
            "BERT (fullset): 3 ✅\n",
            "DistilBERT (fullset): 3 ✅\n",
            "Base NLP Town BERT: 3 ✅\n",
            "====================================================================================================\n",
            "Example 1390\n",
            "----------------------------------------------------------------------------------------------------\n",
            "Text: Service was prompt and professional.\n",
            "True Label: 2\n",
            "Correct Predictions: None\n",
            "Model Predictions:\n",
            "RNN (fullset): 4 ❌\n",
            "BERT (fullset): 4 ❌\n",
            "DistilBERT (fullset): 4 ❌\n",
            "Base NLP Town BERT: 4 ❌\n",
            "====================================================================================================\n"
          ]
        }
      ],
      "source": [
        "if EVAL_MODE:\n",
        "    indices = select_filtered_examples(true_labels, evaluation_model_predictions, filter_type=\"fp\", num_examples=5) # fp for all\n",
        "    show_comparison_examples(texts, true_labels, evaluation_model_predictions, indices)"
      ]
    },
    {
      "cell_type": "markdown",
      "metadata": {
        "id": "ILVw8KE1KLKT"
      },
      "source": [
        "# 6.Extra: Model manual testing for 5 stars"
      ]
    },
    {
      "cell_type": "code",
      "execution_count": null,
      "metadata": {
        "colab": {
          "background_save": true,
          "referenced_widgets": [
            "9ee2536091d1404fa3382c17655027ca"
          ]
        },
        "id": "wXKVjAYMKO_S",
        "outputId": "0ad8fe76-3ae3-4761-d03d-ac255c187d88"
      },
      "outputs": [
        {
          "data": {
            "application/vnd.jupyter.widget-view+json": {
              "model_id": "9ee2536091d1404fa3382c17655027ca",
              "version_major": 2,
              "version_minor": 0
            },
            "text/plain": [
              "VBox(children=(Dropdown(description='Model:', options=('RNN (fullset)', 'BERT (fullset)', 'DistilBERT (fullset…"
            ]
          },
          "metadata": {},
          "output_type": "display_data"
        }
      ],
      "source": [
        "if EVAL_MODE:\n",
        "    label_names = [\"1 star\", \"2 stars\", \"3 stars\", \"4 stars\", \"5 stars\"]\n",
        "\n",
        "    test_model_manual(\n",
        "        evaluation_models_data,\n",
        "        label_names=label_names,\n",
        "        device=\"cpu\"\n",
        "    )"
      ]
    },
    {
      "cell_type": "markdown",
      "metadata": {
        "id": "kKl_FdDCk9ru"
      },
      "source": [
        "# 7.Extra: Random testing set for distilberts"
      ]
    },
    {
      "cell_type": "code",
      "execution_count": null,
      "metadata": {
        "colab": {
          "background_save": true
        },
        "id": "5yY5gIICnusO",
        "outputId": "47b3461e-44bf-4aff-b3b8-e4ac77768b52"
      },
      "outputs": [
        {
          "name": "stdout",
          "output_type": "stream",
          "text": [
            "Downloading from https://www.kaggle.com/api/v1/datasets/download/denizbilginn/google-maps-restaurant-reviews?dataset_version_number=4...\n"
          ]
        },
        {
          "name": "stderr",
          "output_type": "stream",
          "text": [
            "100%|██████████| 657M/657M [00:18<00:00, 36.6MB/s]"
          ]
        },
        {
          "name": "stdout",
          "output_type": "stream",
          "text": [
            "Extracting files...\n"
          ]
        },
        {
          "name": "stderr",
          "output_type": "stream",
          "text": [
            "\n"
          ]
        }
      ],
      "source": [
        "import kagglehub\n",
        "\n",
        "path = kagglehub.dataset_download(\"denizbilginn/google-maps-restaurant-reviews\")\n",
        "!cp -r /root/.cache/kagglehub/datasets/denizbilginn/google-maps-restaurant-reviews/versions/4 /content/google_maps_restaurant_reviews\n"
      ]
    },
    {
      "cell_type": "code",
      "execution_count": null,
      "metadata": {
        "colab": {
          "background_save": true
        },
        "id": "QG2C8crHpx9P",
        "outputId": "8b6afe74-050f-4e18-ea2b-5cca08beb880"
      },
      "outputs": [
        {
          "name": "stdout",
          "output_type": "stream",
          "text": [
            "                                                text  rating  \\\n",
            "0  We went to Marmaris with my wife for a holiday...       5   \n",
            "1  During my holiday in Marmaris we ate here to f...       4   \n",
            "2  Prices are very affordable. The menu in the ph...       3   \n",
            "3  Turkey's cheapest artisan restaurant and its f...       5   \n",
            "4  I don't know what you will look for in terms o...       3   \n",
            "\n",
            "                     business_name  \n",
            "0  Haci'nin Yeri - Yigit Lokantasi  \n",
            "1  Haci'nin Yeri - Yigit Lokantasi  \n",
            "2  Haci'nin Yeri - Yigit Lokantasi  \n",
            "3  Haci'nin Yeri - Yigit Lokantasi  \n",
            "4  Haci'nin Yeri - Yigit Lokantasi  \n"
          ]
        }
      ],
      "source": [
        "# Load the file as a DataFrame\n",
        "df = pd.read_csv('/content/google_maps_restaurant_reviews/reviews.csv')\n",
        "\n",
        "# Keep only 'textx' and 'labels' columns\n",
        "df = df[['text', 'rating', \"business_name\"]]\n",
        "\n",
        "# Display the resulting DataFrame\n",
        "print(df.head())"
      ]
    },
    {
      "cell_type": "code",
      "execution_count": null,
      "metadata": {
        "colab": {
          "background_save": true
        },
        "id": "23u565yJrybB"
      },
      "outputs": [],
      "source": [
        "import pandas as pd\n",
        "from transformers import DistilBertTokenizerFast\n",
        "import torch\n",
        "from sklearn.preprocessing import LabelEncoder\n",
        "\n",
        "labels = torch.tensor(df['rating'] - 1)  # rating: 1-5 → label: 0-4, so rating-1 works\n",
        "\n",
        "le = LabelEncoder()\n",
        "places_encoded = le.fit_transform(df['business_name'])\n",
        "places = torch.tensor(places_encoded)\n",
        "\n",
        "tokenizer = DistilBertTokenizerFast.from_pretrained('distilbert-base-uncased')\n",
        "tokens = tokenize_texts(list(df['text']),tokenizer)\n",
        "texts = list(df['text'])\n",
        "test_dataset_extra = ReviewsDataset(tokens, texts, labels, places)\n",
        "test_loader_extra = DataLoader(test_dataset_extra, batch_size=32, shuffle=False)\n",
        "\n"
      ]
    },
    {
      "cell_type": "code",
      "execution_count": null,
      "metadata": {
        "colab": {
          "background_save": true
        },
        "id": "9OZmSiDttMwM"
      },
      "outputs": [],
      "source": [
        "if EVAL_MODE and EXTRA_TEST:\n",
        "    model_distilbert_fullset =  DistilBertModel(num_labels=5)\n",
        "    loadWeights(model_distilbert_fullset, DISTILBERT_PATH_FULLSET, \"distilbert_fullset.pt\")\n",
        "    model_distilbert_fullset.eval()\n",
        "\n",
        "    model_distilbert_sampler = DistilBertModel(num_labels=5)\n",
        "    loadWeights(model_distilbert_sampler, DISTILBERT_PATH_SAMPLER, \"distilbert_sampler.pt\")\n",
        "    model_distilbert_sampler.eval()\n",
        "\n",
        "    model_distilbert_25set =  DistilBertModel(num_labels=5)\n",
        "    loadWeights(model_distilbert_25set, DISTILBERT_PATH_SET_25, \"distilbert_25set.pt\")\n",
        "    model_distilbert_25set.eval()\n"
      ]
    },
    {
      "cell_type": "code",
      "execution_count": null,
      "metadata": {
        "colab": {
          "background_save": true
        },
        "id": "IEC6vz4rtrzr"
      },
      "outputs": [],
      "source": [
        "if EVAL_MODE:\n",
        "    if EXTRA_TEST:\n",
        "        texts = test_dataset_extra.raw_texts\n",
        "        true_labels = test_dataset_extra.labels\n",
        "        test_loader_extra = DataLoader(test_dataset_extra, batch_size=32, shuffle=False)\n",
        "\n",
        "        preds_distilbert_fullset = test(model_distilbert_fullset, test_loader_extra)\n",
        "        preds_distilbert_sampler = test(model_distilbert_sampler, test_loader_extra)\n",
        "        preds_distilbert_25set = test(model_distilbert_25set, test_loader_extra)\n"
      ]
    },
    {
      "cell_type": "code",
      "execution_count": null,
      "metadata": {
        "colab": {
          "background_save": true
        },
        "id": "D8wEx53lt5Nu"
      },
      "outputs": [],
      "source": [
        "if EVAL_MODE:\n",
        "    if EXTRA_TEST:\n",
        "        evaluation_model_predictions = {\n",
        "            \"Fullset DistilBERT\": preds_distilbert_fullset,\n",
        "            \"Sampler DistilBERT\": preds_distilbert_sampler,\n",
        "            \"25_SET DistilBERT \": preds_distilbert_25set,\n",
        "        }"
      ]
    },
    {
      "cell_type": "code",
      "execution_count": null,
      "metadata": {
        "colab": {
          "background_save": true
        },
        "id": "-wPOfrcRuJH7"
      },
      "outputs": [],
      "source": [
        "if EVAL_MODE and EXTRA_TEST:\n",
        "    metrics_comp_df = compare_metrics(true_labels, evaluation_model_predictions)\n",
        "    display(metrics_comp_df.style.format(\"{:.3f}\"))"
      ]
    },
    {
      "cell_type": "code",
      "execution_count": null,
      "metadata": {
        "id": "Hnt16uNjytLZ"
      },
      "outputs": [],
      "source": [
        "if EVAL_MODE:\n",
        "    for model_name, preds in evaluation_model_predictions.items():\n",
        "        print(f\"{model_name} classification report\")\n",
        "        print(classification_report(true_labels, preds))"
      ]
    }
  ],
  "metadata": {
    "accelerator": "GPU",
    "colab": {
      "gpuType": "T4",
      "provenance": []
    },
    "kernelspec": {
      "display_name": "Python 3",
      "name": "python3"
    },
    "language_info": {
      "name": "python"
    }
  },
  "nbformat": 4,
  "nbformat_minor": 0
}