{
 "cells": [
  {
   "cell_type": "code",
   "execution_count": 1,
   "id": "84704009",
   "metadata": {},
   "outputs": [],
   "source": [
    "import pandas as pd"
   ]
  },
  {
   "cell_type": "code",
   "execution_count": null,
   "id": "741d625c",
   "metadata": {},
   "outputs": [
    {
     "data": {
      "text/html": [
       "<div>\n",
       "<style scoped>\n",
       "    .dataframe tbody tr th:only-of-type {\n",
       "        vertical-align: middle;\n",
       "    }\n",
       "\n",
       "    .dataframe tbody tr th {\n",
       "        vertical-align: top;\n",
       "    }\n",
       "\n",
       "    .dataframe thead th {\n",
       "        text-align: right;\n",
       "    }\n",
       "</style>\n",
       "<table border=\"1\" class=\"dataframe\">\n",
       "  <thead>\n",
       "    <tr style=\"text-align: right;\">\n",
       "      <th></th>\n",
       "      <th>place</th>\n",
       "      <th>rating</th>\n",
       "      <th>text</th>\n",
       "    </tr>\n",
       "  </thead>\n",
       "  <tbody>\n",
       "    <tr>\n",
       "      <th>0</th>\n",
       "      <td>Cister Catorce</td>\n",
       "      <td>1</td>\n",
       "      <td>This place is a complete tourist trap, its bes...</td>\n",
       "    </tr>\n",
       "    <tr>\n",
       "      <th>1</th>\n",
       "      <td>Cister Catorce</td>\n",
       "      <td>1</td>\n",
       "      <td>AVOID! So sorry I didn't read the reviews befo...</td>\n",
       "    </tr>\n",
       "    <tr>\n",
       "      <th>2</th>\n",
       "      <td>Cister Catorce</td>\n",
       "      <td>1</td>\n",
       "      <td>We should have known better but we wanted a qu...</td>\n",
       "    </tr>\n",
       "    <tr>\n",
       "      <th>3</th>\n",
       "      <td>Cister Catorce</td>\n",
       "      <td>2</td>\n",
       "      <td>We didn’t check the ratings beforehand, and un...</td>\n",
       "    </tr>\n",
       "    <tr>\n",
       "      <th>4</th>\n",
       "      <td>Cister Catorce</td>\n",
       "      <td>1</td>\n",
       "      <td>Wish i read the reviews first, saw the tapa si...</td>\n",
       "    </tr>\n",
       "  </tbody>\n",
       "</table>\n",
       "</div>"
      ],
      "text/plain": [
       "            place  rating                                               text\n",
       "0  Cister Catorce       1  This place is a complete tourist trap, its bes...\n",
       "1  Cister Catorce       1  AVOID! So sorry I didn't read the reviews befo...\n",
       "2  Cister Catorce       1  We should have known better but we wanted a qu...\n",
       "3  Cister Catorce       2  We didn’t check the ratings beforehand, and un...\n",
       "4  Cister Catorce       1  Wish i read the reviews first, saw the tapa si..."
      ]
     },
     "execution_count": 4,
     "metadata": {},
     "output_type": "execute_result"
    }
   ],
   "source": [
    "# Read JSON Lines file:\n",
    "df = pd.read_json(\"../data/reviews.jsonl\", lines=True)\n",
    "\n",
    "# Inspect:\n",
    "df.head()\n"
   ]
  }
 ],
 "metadata": {
  "kernelspec": {
   "display_name": "Python 3",
   "language": "python",
   "name": "python3"
  },
  "language_info": {
   "codemirror_mode": {
    "name": "ipython",
    "version": 3
   },
   "file_extension": ".py",
   "mimetype": "text/x-python",
   "name": "python",
   "nbconvert_exporter": "python",
   "pygments_lexer": "ipython3",
   "version": "3.12.6"
  }
 },
 "nbformat": 4,
 "nbformat_minor": 5
}
